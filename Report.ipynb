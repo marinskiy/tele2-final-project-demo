{
 "cells": [
  {
   "cell_type": "code",
   "execution_count": 1,
   "metadata": {
    "pycharm": {
     "is_executing": false
    }
   },
   "outputs": [],
   "source": [
    "import pandas as pd\n",
    "import matplotlib.pyplot as plt\n",
    "import seaborn as sns\n",
    "from sklearn.model_selection import TimeSeriesSplit, cross_val_score\n",
    "from sklearn.model_selection import train_test_split\n",
    "from keras.models import Sequential\n",
    "from keras.layers import Dense, Dropout\n",
    "from keras.callbacks import EarlyStopping\n",
    "import tensorflow as tf\n",
    "from sklearn.metrics import classification_report, confusion_matrix"
   ]
  },
  {
   "cell_type": "markdown",
   "metadata": {},
   "source": [
    "# Creation of a churn model for the company and new processes for churn reduction"
   ]
  },
  {
   "cell_type": "markdown",
   "metadata": {
    "pycharm": {
     "name": "#%% md\n"
    }
   },
   "source": [
    "## Table of Contents\n",
    "1. [Project overview](#Project_overview)\n",
    "  1. [Company background](#Company_background) \n",
    "  1. [Project background](#Project_background) \n",
    "  1. [Project goal](#Project_goal) \n",
    "  1. [Project objectives](#Project_objectives) \n",
    "1. [Theoretical background](#Theoretical_background)  .\n",
    "  1. [Sample imbalance](#Sample_imbalance)\n",
    "  1. [Time-aware cross-validation](#Time_CV)\n",
    "1. [Data](#Data)\n",
    "  1. [Churn definition](#Churn_definition) \n",
    "  1. [Data overview](#Data_overview) \n",
    "  1. [Data preparation](#Data_preparation) \n",
    "1. [Exploratory data analysis](#EDA) \n"
   ]
  },
  {
   "cell_type": "markdown",
   "metadata": {},
   "source": [
    "<a id=\"Project_overview\"></a>\n",
    "## Project overview"
   ]
  },
  {
   "cell_type": "markdown",
   "metadata": {},
   "source": [
    "<a id=\"Company_background\"></a>\n",
    "### Company background"
   ]
  },
  {
   "cell_type": "markdown",
   "metadata": {},
   "source": [
    "TELE2 is one of the most popular telecom operators in Russia. It was established in 2003 and now operates in 65 regions of Russian Federation, providing services in high-speed internet connection of 3G/4G standard. The main track of company’s development is creation of products with the best available price-quality ratio. It has significant success among clients and has become the fastest growing operator by average year revenue from services. To sum up, current approach allowed the company to not only attract the price-sensitive customer segment, but also capture the most growing segment of digital clients, who use the data (internet access)."
   ]
  },
  {
   "cell_type": "markdown",
   "metadata": {},
   "source": [
    "<a id=\"Project_background\"></a>\n",
    "### Project background"
   ]
  },
  {
   "cell_type": "markdown",
   "metadata": {
    "pycharm": {
     "is_executing": false,
     "name": "#%% md\n"
    }
   },
   "source": [
    "To increase revenue and profit, mobile operators need to increase their user base. There are two ways to achieve this. Companies can attract new users or they can reduce the outflow of existing users. At the same time, it is true for the telecom industry in Russia nowadays that retaining one user is cheaper than attracting one user. However, user retention measures are quite expensive and the company cannot carry out user retention measures for all customers. That is why TELE2 needs to understand exactly which customers are going to change their mobile operator.\n",
    "\n",
    "Creating customer churn models is one of the most pressing data science challenges for the industry. Timely identification of users who are going to change their mobile operator allows company to start activities aimed at retaining such customers on time. That is why the project is of great practical value for TELE2\n",
    "\n",
    "There are two important points in building customer retention processes in the company. Firstly, retention of the customer does not happen instantly, which means that company needs to start retention measures before the user decides to change mobile operator. The second important point is that some users bring more profit to the company than others, which means TELE2 needs to differentiate customer retention measures and spend more resources on retention of customers, which are important for the company."
   ]
  },
  {
   "cell_type": "markdown",
   "metadata": {},
   "source": [
    "<a id=\"Project_goal\"></a>\n",
    "### Project goal"
   ]
  },
  {
   "cell_type": "markdown",
   "metadata": {},
   "source": [
    "The goal of the project is to create a churn model for the company and suggest processes for churn reduction."
   ]
  },
  {
   "cell_type": "markdown",
   "metadata": {},
   "source": [
    "<a id=\"Project_objectives\"></a>\n",
    "### Project objectives"
   ]
  },
  {
   "cell_type": "markdown",
   "metadata": {},
   "source": [
    "1. Define churn.\n",
    "1. Choose type of the model (regression, binary classification, multiclass classification)\n",
    "1. Determine how much time is required for customer retention measures and based on this determine the prediction horizon for the model.\n",
    "1. Choose quality metric.\n",
    "1. Build a model on historical data.\n",
    "1. Suggest an experiment design for testing model on real users.\n"
   ]
  },
  {
   "cell_type": "markdown",
   "metadata": {},
   "source": [
    "<a id=\"Theoretical_background\"></a>\n",
    "## Theoretical background"
   ]
  },
  {
   "cell_type": "markdown",
   "source": [
    "<a id=\"Sample_imbalance\"></a>\n",
    "### Sample imbalance\n",
    "\n",
    "TODO"
   ],
   "metadata": {
    "collapsed": false
   }
  },
  {
   "cell_type": "markdown",
   "source": [
    "<a id=\"Time_CV\"></a>\n",
    "### Time-aware cross-validation\n",
    "\n",
    "TODO"
   ],
   "metadata": {
    "collapsed": false
   }
  },
  {
   "cell_type": "markdown",
   "metadata": {},
   "source": [
    "<a id=\"Data\"></a>\n",
    "## Data"
   ]
  },
  {
   "cell_type": "markdown",
   "source": [
    "<a id=\"Churn_definition\"></a>\n",
    "### Churn definition\n",
    "\n",
    "Tele2 defines churned customer as customer who was not active for 90 days. The company needs 5 days to conduct customer retention measures. It is clear that such measures should be carried out before the client ceased to use the services of a mobile operator. Thus, the curn model goal is to determine the likelihood that the user will make his last flash activity in the next 7-14 days.  \n",
    "![Definition](img/churn_definition.png)  \n",
    "\n",
    "Thus, the chronology of customer retention measures will be following. Suppose on March 3 we are scoring all clients (scoring_day). At this moment, we data available as on March 1 (report_day). Then our model should predict the probability that the client will make the last flash activity in the period from March 8 to March 14. Now the company has time from March 3 to March 8 to try to contact the user, offer him/her a discount, special conditions and so on.  \n",
    "\n",
    "![Chronology](img/churn_chronology.png)"
   ],
   "metadata": {
    "collapsed": false
   }
  },
  {
   "cell_type": "markdown",
   "metadata": {},
   "source": [
    "<a id=\"Data_overview\"></a>\n",
    "### Data overview"
   ]
  },
  {
   "cell_type": "code",
   "execution_count": 2,
   "metadata": {
    "pycharm": {
     "is_executing": false,
     "name": "#%%\n"
    }
   },
   "outputs": [
    {
     "data": {
      "text/plain": "  report_date  label    feat_1      feat_2  feat_3  feat_4  feat_5  feat_6  \\\n0  2018-11-01      0    1.3700    0.272727    2844       1       7       0   \n1  2019-01-01      0    1.4719    6.857143     700      30       3       0   \n2  2018-11-01      0   -1.2900  117.727273    2232       0       9       0   \n3  2018-11-01      0    8.7723    0.045455     704      17       3       0   \n4  2018-10-01      0  249.3617   15.250000    1057      30       4       0   \n5  2018-12-01      0   57.6500    1.250000    4812      30       9       0   \n6  2018-11-01      0 -313.2998   11.318182    1378      30      22       0   \n7  2019-01-01      0    0.2463   19.333333     509       6       6       0   \n8  2019-01-01      1  -32.3299    1.714286    2279       0       7       0   \n9  2018-10-01      0   77.5500    1.458333    3009       0       2       0   \n\n     feat_7  feat_8  ...   feat_38  feat_39  feat_40  feat_41  feat_42  \\\n0   97.5700      15  ...    0.0000   997.25     36.0      1.0      NaN   \n1  400.9999      29  ...  398.9999  3084.22     15.0      1.0     28.0   \n2   25.5000       0  ...    3.0000    88.00      2.0      1.0      1.0   \n3  354.9999      22  ...   89.9999  2556.00     29.0      2.0      4.0   \n4  398.9999       4  ...  398.9999  2680.00      8.0      0.0     12.0   \n5  270.0000      25  ...  200.0000  1800.00     13.0      1.0     15.0   \n6  329.0000      13  ...  299.0000  3520.58     14.0      2.0     13.0   \n7   56.7995      20  ...    7.9999  1007.00     69.0      1.0      1.0   \n8   96.8500       2  ...    0.0000  1613.94     28.0      2.0      NaN   \n9   43.8800      20  ...       NaN   251.00      4.0      1.0      NaN   \n\n   feat_43  feat_44  feat_45  feat_46   client_id  \n0      2.0      3.0      4.0     0.00  iac7tbnxs4  \n1      1.0     12.0     12.0     0.55  nq1gzprvl4  \n2      8.0      3.0      8.0     0.00  ujfhavmvea  \n3      1.0      3.0      4.0     0.00  s6p0vg7kcr  \n4      2.0     12.0     12.0     0.00  3b7lxt5rsk  \n5      1.0      2.0      2.0     0.00  rr9twyst2j  \n6      1.0     12.0     16.0     0.00  vn82a3f903  \n7      1.0      2.0      2.0     0.00  ja4f8k2pzu  \n8      1.0      2.0     10.0     0.00  datw3tw6d2  \n9      6.0      0.0     36.0     0.00  uiw9672bd4  \n\n[10 rows x 49 columns]",
      "text/html": "<div>\n<style scoped>\n    .dataframe tbody tr th:only-of-type {\n        vertical-align: middle;\n    }\n\n    .dataframe tbody tr th {\n        vertical-align: top;\n    }\n\n    .dataframe thead th {\n        text-align: right;\n    }\n</style>\n<table border=\"1\" class=\"dataframe\">\n  <thead>\n    <tr style=\"text-align: right;\">\n      <th></th>\n      <th>report_date</th>\n      <th>label</th>\n      <th>feat_1</th>\n      <th>feat_2</th>\n      <th>feat_3</th>\n      <th>feat_4</th>\n      <th>feat_5</th>\n      <th>feat_6</th>\n      <th>feat_7</th>\n      <th>feat_8</th>\n      <th>...</th>\n      <th>feat_38</th>\n      <th>feat_39</th>\n      <th>feat_40</th>\n      <th>feat_41</th>\n      <th>feat_42</th>\n      <th>feat_43</th>\n      <th>feat_44</th>\n      <th>feat_45</th>\n      <th>feat_46</th>\n      <th>client_id</th>\n    </tr>\n  </thead>\n  <tbody>\n    <tr>\n      <th>0</th>\n      <td>2018-11-01</td>\n      <td>0</td>\n      <td>1.3700</td>\n      <td>0.272727</td>\n      <td>2844</td>\n      <td>1</td>\n      <td>7</td>\n      <td>0</td>\n      <td>97.5700</td>\n      <td>15</td>\n      <td>...</td>\n      <td>0.0000</td>\n      <td>997.25</td>\n      <td>36.0</td>\n      <td>1.0</td>\n      <td>NaN</td>\n      <td>2.0</td>\n      <td>3.0</td>\n      <td>4.0</td>\n      <td>0.00</td>\n      <td>iac7tbnxs4</td>\n    </tr>\n    <tr>\n      <th>1</th>\n      <td>2019-01-01</td>\n      <td>0</td>\n      <td>1.4719</td>\n      <td>6.857143</td>\n      <td>700</td>\n      <td>30</td>\n      <td>3</td>\n      <td>0</td>\n      <td>400.9999</td>\n      <td>29</td>\n      <td>...</td>\n      <td>398.9999</td>\n      <td>3084.22</td>\n      <td>15.0</td>\n      <td>1.0</td>\n      <td>28.0</td>\n      <td>1.0</td>\n      <td>12.0</td>\n      <td>12.0</td>\n      <td>0.55</td>\n      <td>nq1gzprvl4</td>\n    </tr>\n    <tr>\n      <th>2</th>\n      <td>2018-11-01</td>\n      <td>0</td>\n      <td>-1.2900</td>\n      <td>117.727273</td>\n      <td>2232</td>\n      <td>0</td>\n      <td>9</td>\n      <td>0</td>\n      <td>25.5000</td>\n      <td>0</td>\n      <td>...</td>\n      <td>3.0000</td>\n      <td>88.00</td>\n      <td>2.0</td>\n      <td>1.0</td>\n      <td>1.0</td>\n      <td>8.0</td>\n      <td>3.0</td>\n      <td>8.0</td>\n      <td>0.00</td>\n      <td>ujfhavmvea</td>\n    </tr>\n    <tr>\n      <th>3</th>\n      <td>2018-11-01</td>\n      <td>0</td>\n      <td>8.7723</td>\n      <td>0.045455</td>\n      <td>704</td>\n      <td>17</td>\n      <td>3</td>\n      <td>0</td>\n      <td>354.9999</td>\n      <td>22</td>\n      <td>...</td>\n      <td>89.9999</td>\n      <td>2556.00</td>\n      <td>29.0</td>\n      <td>2.0</td>\n      <td>4.0</td>\n      <td>1.0</td>\n      <td>3.0</td>\n      <td>4.0</td>\n      <td>0.00</td>\n      <td>s6p0vg7kcr</td>\n    </tr>\n    <tr>\n      <th>4</th>\n      <td>2018-10-01</td>\n      <td>0</td>\n      <td>249.3617</td>\n      <td>15.250000</td>\n      <td>1057</td>\n      <td>30</td>\n      <td>4</td>\n      <td>0</td>\n      <td>398.9999</td>\n      <td>4</td>\n      <td>...</td>\n      <td>398.9999</td>\n      <td>2680.00</td>\n      <td>8.0</td>\n      <td>0.0</td>\n      <td>12.0</td>\n      <td>2.0</td>\n      <td>12.0</td>\n      <td>12.0</td>\n      <td>0.00</td>\n      <td>3b7lxt5rsk</td>\n    </tr>\n    <tr>\n      <th>5</th>\n      <td>2018-12-01</td>\n      <td>0</td>\n      <td>57.6500</td>\n      <td>1.250000</td>\n      <td>4812</td>\n      <td>30</td>\n      <td>9</td>\n      <td>0</td>\n      <td>270.0000</td>\n      <td>25</td>\n      <td>...</td>\n      <td>200.0000</td>\n      <td>1800.00</td>\n      <td>13.0</td>\n      <td>1.0</td>\n      <td>15.0</td>\n      <td>1.0</td>\n      <td>2.0</td>\n      <td>2.0</td>\n      <td>0.00</td>\n      <td>rr9twyst2j</td>\n    </tr>\n    <tr>\n      <th>6</th>\n      <td>2018-11-01</td>\n      <td>0</td>\n      <td>-313.2998</td>\n      <td>11.318182</td>\n      <td>1378</td>\n      <td>30</td>\n      <td>22</td>\n      <td>0</td>\n      <td>329.0000</td>\n      <td>13</td>\n      <td>...</td>\n      <td>299.0000</td>\n      <td>3520.58</td>\n      <td>14.0</td>\n      <td>2.0</td>\n      <td>13.0</td>\n      <td>1.0</td>\n      <td>12.0</td>\n      <td>16.0</td>\n      <td>0.00</td>\n      <td>vn82a3f903</td>\n    </tr>\n    <tr>\n      <th>7</th>\n      <td>2019-01-01</td>\n      <td>0</td>\n      <td>0.2463</td>\n      <td>19.333333</td>\n      <td>509</td>\n      <td>6</td>\n      <td>6</td>\n      <td>0</td>\n      <td>56.7995</td>\n      <td>20</td>\n      <td>...</td>\n      <td>7.9999</td>\n      <td>1007.00</td>\n      <td>69.0</td>\n      <td>1.0</td>\n      <td>1.0</td>\n      <td>1.0</td>\n      <td>2.0</td>\n      <td>2.0</td>\n      <td>0.00</td>\n      <td>ja4f8k2pzu</td>\n    </tr>\n    <tr>\n      <th>8</th>\n      <td>2019-01-01</td>\n      <td>1</td>\n      <td>-32.3299</td>\n      <td>1.714286</td>\n      <td>2279</td>\n      <td>0</td>\n      <td>7</td>\n      <td>0</td>\n      <td>96.8500</td>\n      <td>2</td>\n      <td>...</td>\n      <td>0.0000</td>\n      <td>1613.94</td>\n      <td>28.0</td>\n      <td>2.0</td>\n      <td>NaN</td>\n      <td>1.0</td>\n      <td>2.0</td>\n      <td>10.0</td>\n      <td>0.00</td>\n      <td>datw3tw6d2</td>\n    </tr>\n    <tr>\n      <th>9</th>\n      <td>2018-10-01</td>\n      <td>0</td>\n      <td>77.5500</td>\n      <td>1.458333</td>\n      <td>3009</td>\n      <td>0</td>\n      <td>2</td>\n      <td>0</td>\n      <td>43.8800</td>\n      <td>20</td>\n      <td>...</td>\n      <td>NaN</td>\n      <td>251.00</td>\n      <td>4.0</td>\n      <td>1.0</td>\n      <td>NaN</td>\n      <td>6.0</td>\n      <td>0.0</td>\n      <td>36.0</td>\n      <td>0.00</td>\n      <td>uiw9672bd4</td>\n    </tr>\n  </tbody>\n</table>\n<p>10 rows × 49 columns</p>\n</div>"
     },
     "metadata": {},
     "output_type": "execute_result",
     "execution_count": 66
    },
    {
     "data": {
      "text/plain": "  report_date  label    feat_1      feat_2  feat_3  feat_4  feat_5  feat_6  \\\n0  2018-11-01      0    1.3700    0.272727    2844       1       7       0   \n1  2019-01-01      0    1.4719    6.857143     700      30       3       0   \n2  2018-11-01      0   -1.2900  117.727273    2232       0       9       0   \n3  2018-11-01      0    8.7723    0.045455     704      17       3       0   \n4  2018-10-01      0  249.3617   15.250000    1057      30       4       0   \n5  2018-12-01      0   57.6500    1.250000    4812      30       9       0   \n6  2018-11-01      0 -313.2998   11.318182    1378      30      22       0   \n7  2019-01-01      0    0.2463   19.333333     509       6       6       0   \n8  2019-01-01      1  -32.3299    1.714286    2279       0       7       0   \n9  2018-10-01      0   77.5500    1.458333    3009       0       2       0   \n\n     feat_7  feat_8  ...   feat_38  feat_39  feat_40  feat_41  feat_42  \\\n0   97.5700      15  ...    0.0000   997.25     36.0      1.0      NaN   \n1  400.9999      29  ...  398.9999  3084.22     15.0      1.0     28.0   \n2   25.5000       0  ...    3.0000    88.00      2.0      1.0      1.0   \n3  354.9999      22  ...   89.9999  2556.00     29.0      2.0      4.0   \n4  398.9999       4  ...  398.9999  2680.00      8.0      0.0     12.0   \n5  270.0000      25  ...  200.0000  1800.00     13.0      1.0     15.0   \n6  329.0000      13  ...  299.0000  3520.58     14.0      2.0     13.0   \n7   56.7995      20  ...    7.9999  1007.00     69.0      1.0      1.0   \n8   96.8500       2  ...    0.0000  1613.94     28.0      2.0      NaN   \n9   43.8800      20  ...       NaN   251.00      4.0      1.0      NaN   \n\n   feat_43  feat_44  feat_45  feat_46   client_id  \n0      2.0      3.0      4.0     0.00  iac7tbnxs4  \n1      1.0     12.0     12.0     0.55  nq1gzprvl4  \n2      8.0      3.0      8.0     0.00  ujfhavmvea  \n3      1.0      3.0      4.0     0.00  s6p0vg7kcr  \n4      2.0     12.0     12.0     0.00  3b7lxt5rsk  \n5      1.0      2.0      2.0     0.00  rr9twyst2j  \n6      1.0     12.0     16.0     0.00  vn82a3f903  \n7      1.0      2.0      2.0     0.00  ja4f8k2pzu  \n8      1.0      2.0     10.0     0.00  datw3tw6d2  \n9      6.0      0.0     36.0     0.00  uiw9672bd4  \n\n[10 rows x 49 columns]",
      "text/html": "<div>\n<style scoped>\n    .dataframe tbody tr th:only-of-type {\n        vertical-align: middle;\n    }\n\n    .dataframe tbody tr th {\n        vertical-align: top;\n    }\n\n    .dataframe thead th {\n        text-align: right;\n    }\n</style>\n<table border=\"1\" class=\"dataframe\">\n  <thead>\n    <tr style=\"text-align: right;\">\n      <th></th>\n      <th>report_date</th>\n      <th>label</th>\n      <th>feat_1</th>\n      <th>feat_2</th>\n      <th>feat_3</th>\n      <th>feat_4</th>\n      <th>feat_5</th>\n      <th>feat_6</th>\n      <th>feat_7</th>\n      <th>feat_8</th>\n      <th>...</th>\n      <th>feat_38</th>\n      <th>feat_39</th>\n      <th>feat_40</th>\n      <th>feat_41</th>\n      <th>feat_42</th>\n      <th>feat_43</th>\n      <th>feat_44</th>\n      <th>feat_45</th>\n      <th>feat_46</th>\n      <th>client_id</th>\n    </tr>\n  </thead>\n  <tbody>\n    <tr>\n      <th>0</th>\n      <td>2018-11-01</td>\n      <td>0</td>\n      <td>1.3700</td>\n      <td>0.272727</td>\n      <td>2844</td>\n      <td>1</td>\n      <td>7</td>\n      <td>0</td>\n      <td>97.5700</td>\n      <td>15</td>\n      <td>...</td>\n      <td>0.0000</td>\n      <td>997.25</td>\n      <td>36.0</td>\n      <td>1.0</td>\n      <td>NaN</td>\n      <td>2.0</td>\n      <td>3.0</td>\n      <td>4.0</td>\n      <td>0.00</td>\n      <td>iac7tbnxs4</td>\n    </tr>\n    <tr>\n      <th>1</th>\n      <td>2019-01-01</td>\n      <td>0</td>\n      <td>1.4719</td>\n      <td>6.857143</td>\n      <td>700</td>\n      <td>30</td>\n      <td>3</td>\n      <td>0</td>\n      <td>400.9999</td>\n      <td>29</td>\n      <td>...</td>\n      <td>398.9999</td>\n      <td>3084.22</td>\n      <td>15.0</td>\n      <td>1.0</td>\n      <td>28.0</td>\n      <td>1.0</td>\n      <td>12.0</td>\n      <td>12.0</td>\n      <td>0.55</td>\n      <td>nq1gzprvl4</td>\n    </tr>\n    <tr>\n      <th>2</th>\n      <td>2018-11-01</td>\n      <td>0</td>\n      <td>-1.2900</td>\n      <td>117.727273</td>\n      <td>2232</td>\n      <td>0</td>\n      <td>9</td>\n      <td>0</td>\n      <td>25.5000</td>\n      <td>0</td>\n      <td>...</td>\n      <td>3.0000</td>\n      <td>88.00</td>\n      <td>2.0</td>\n      <td>1.0</td>\n      <td>1.0</td>\n      <td>8.0</td>\n      <td>3.0</td>\n      <td>8.0</td>\n      <td>0.00</td>\n      <td>ujfhavmvea</td>\n    </tr>\n    <tr>\n      <th>3</th>\n      <td>2018-11-01</td>\n      <td>0</td>\n      <td>8.7723</td>\n      <td>0.045455</td>\n      <td>704</td>\n      <td>17</td>\n      <td>3</td>\n      <td>0</td>\n      <td>354.9999</td>\n      <td>22</td>\n      <td>...</td>\n      <td>89.9999</td>\n      <td>2556.00</td>\n      <td>29.0</td>\n      <td>2.0</td>\n      <td>4.0</td>\n      <td>1.0</td>\n      <td>3.0</td>\n      <td>4.0</td>\n      <td>0.00</td>\n      <td>s6p0vg7kcr</td>\n    </tr>\n    <tr>\n      <th>4</th>\n      <td>2018-10-01</td>\n      <td>0</td>\n      <td>249.3617</td>\n      <td>15.250000</td>\n      <td>1057</td>\n      <td>30</td>\n      <td>4</td>\n      <td>0</td>\n      <td>398.9999</td>\n      <td>4</td>\n      <td>...</td>\n      <td>398.9999</td>\n      <td>2680.00</td>\n      <td>8.0</td>\n      <td>0.0</td>\n      <td>12.0</td>\n      <td>2.0</td>\n      <td>12.0</td>\n      <td>12.0</td>\n      <td>0.00</td>\n      <td>3b7lxt5rsk</td>\n    </tr>\n    <tr>\n      <th>5</th>\n      <td>2018-12-01</td>\n      <td>0</td>\n      <td>57.6500</td>\n      <td>1.250000</td>\n      <td>4812</td>\n      <td>30</td>\n      <td>9</td>\n      <td>0</td>\n      <td>270.0000</td>\n      <td>25</td>\n      <td>...</td>\n      <td>200.0000</td>\n      <td>1800.00</td>\n      <td>13.0</td>\n      <td>1.0</td>\n      <td>15.0</td>\n      <td>1.0</td>\n      <td>2.0</td>\n      <td>2.0</td>\n      <td>0.00</td>\n      <td>rr9twyst2j</td>\n    </tr>\n    <tr>\n      <th>6</th>\n      <td>2018-11-01</td>\n      <td>0</td>\n      <td>-313.2998</td>\n      <td>11.318182</td>\n      <td>1378</td>\n      <td>30</td>\n      <td>22</td>\n      <td>0</td>\n      <td>329.0000</td>\n      <td>13</td>\n      <td>...</td>\n      <td>299.0000</td>\n      <td>3520.58</td>\n      <td>14.0</td>\n      <td>2.0</td>\n      <td>13.0</td>\n      <td>1.0</td>\n      <td>12.0</td>\n      <td>16.0</td>\n      <td>0.00</td>\n      <td>vn82a3f903</td>\n    </tr>\n    <tr>\n      <th>7</th>\n      <td>2019-01-01</td>\n      <td>0</td>\n      <td>0.2463</td>\n      <td>19.333333</td>\n      <td>509</td>\n      <td>6</td>\n      <td>6</td>\n      <td>0</td>\n      <td>56.7995</td>\n      <td>20</td>\n      <td>...</td>\n      <td>7.9999</td>\n      <td>1007.00</td>\n      <td>69.0</td>\n      <td>1.0</td>\n      <td>1.0</td>\n      <td>1.0</td>\n      <td>2.0</td>\n      <td>2.0</td>\n      <td>0.00</td>\n      <td>ja4f8k2pzu</td>\n    </tr>\n    <tr>\n      <th>8</th>\n      <td>2019-01-01</td>\n      <td>1</td>\n      <td>-32.3299</td>\n      <td>1.714286</td>\n      <td>2279</td>\n      <td>0</td>\n      <td>7</td>\n      <td>0</td>\n      <td>96.8500</td>\n      <td>2</td>\n      <td>...</td>\n      <td>0.0000</td>\n      <td>1613.94</td>\n      <td>28.0</td>\n      <td>2.0</td>\n      <td>NaN</td>\n      <td>1.0</td>\n      <td>2.0</td>\n      <td>10.0</td>\n      <td>0.00</td>\n      <td>datw3tw6d2</td>\n    </tr>\n    <tr>\n      <th>9</th>\n      <td>2018-10-01</td>\n      <td>0</td>\n      <td>77.5500</td>\n      <td>1.458333</td>\n      <td>3009</td>\n      <td>0</td>\n      <td>2</td>\n      <td>0</td>\n      <td>43.8800</td>\n      <td>20</td>\n      <td>...</td>\n      <td>NaN</td>\n      <td>251.00</td>\n      <td>4.0</td>\n      <td>1.0</td>\n      <td>NaN</td>\n      <td>6.0</td>\n      <td>0.0</td>\n      <td>36.0</td>\n      <td>0.00</td>\n      <td>uiw9672bd4</td>\n    </tr>\n  </tbody>\n</table>\n<p>10 rows × 49 columns</p>\n</div>"
     },
     "metadata": {},
     "output_type": "execute_result",
     "execution_count": 2
    }
   ],
   "source": [
    "data = pd.read_csv('churn_data.zip')\n",
    "data.head(n=10)"
   ]
  },
  {
   "cell_type": "code",
   "execution_count": 3,
   "metadata": {
    "pycharm": {
     "is_executing": false,
     "name": "#%%\n"
    }
   },
   "outputs": [
    {
     "name": "stdout",
     "text": [
      "# Rows: 280000\n",
      "# Columns: 49\n",
      "# Rows: 280000\n",
      "# Columns: 49\n"
     ],
     "output_type": "stream"
    }
   ],
   "source": [
    "print (\"# Rows:\", data.shape[0])\n",
    "print (\"# Columns:\", data.shape[1])"
   ]
  },
  {
   "cell_type": "code",
   "execution_count": 4,
   "metadata": {
    "pycharm": {
     "is_executing": false,
     "name": "#%%\n"
    }
   },
   "outputs": [
    {
     "data": {
      "text/plain": "            data_type     count         mean          std           min  \\\nreport_date    object       NaN          NaN          NaN           NaN   \nlabel           int64  280000.0     0.142857     0.349928      0.000000   \nfeat_1        float64  280000.0    23.893187   181.351308 -11573.226900   \nfeat_2        float64  280000.0     8.427203    23.424582     -1.000000   \nfeat_3          int64  280000.0  1881.572993  1541.856057     61.000000   \nfeat_4          int64  280000.0    13.243425    13.445184      0.000000   \nfeat_5          int64  280000.0     7.022521     9.679502      0.000000   \nfeat_6          int64  280000.0     0.834732     2.219580      0.000000   \nfeat_7        float64  280000.0   278.751168   266.851525      0.020000   \nfeat_8          int64  280000.0     5.725643     8.435074      0.000000   \nfeat_9        float64  280000.0     1.175534     1.467934      0.000000   \nfeat_10       float64  280000.0     0.968186     2.481911    -37.654533   \nfeat_11       float64  280000.0    86.885744   157.388333      0.176685   \nfeat_12       float64  280000.0   329.576111  2808.883413      0.000000   \nfeat_13       float64  280000.0  1812.682631   996.645362      0.000000   \nfeat_14         int64  280000.0   -47.667832   420.785649  -6491.000000   \nfeat_15       float64  280000.0   166.171717   179.913554      0.000000   \nfeat_16       float64  280000.0     1.034440     0.770239      0.024480   \nfeat_17       float64  280000.0    78.212950   207.081139  -2754.258182   \nfeat_18       float64  280000.0   185.322395   360.392720  -2722.440000   \nfeat_19       float64  280000.0   198.574570   463.626833      0.000000   \nfeat_20       float64  280000.0     0.554901     0.376960      0.000000   \nfeat_21       float64  280000.0     0.461268     0.267118      0.000000   \nfeat_22       float64  280000.0     0.284283     0.285554      0.000000   \nfeat_23         int64  280000.0   486.833432   610.765552      0.000000   \nfeat_24       float64  280000.0     0.494290     0.237345      0.000000   \nfeat_25       float64  280000.0     0.123140     0.168866      0.000000   \nfeat_26       float64  280000.0     0.344394     0.612414      0.000430   \nfeat_27       float64  280000.0     0.115087     0.108565      0.000000   \nfeat_28       float64  280000.0   811.648974   814.009729      0.000000   \nfeat_29       float64  280000.0     0.664580     0.251266      0.000000   \nfeat_30         int64  280000.0   184.295871   313.485533      0.000000   \nfeat_31         int64  280000.0    25.012593    28.535772      0.000000   \nfeat_32       float64  239877.0   198.469641   154.989434      0.000000   \nfeat_33       float64  239877.0     8.677564    24.475113      0.000000   \nfeat_34       float64  239877.0    22.280593   118.153642      0.000000   \nfeat_35       float64  239877.0    11.314486    17.366159      0.000000   \nfeat_36       float64  239877.0    66.462625    99.922425      0.000000   \nfeat_37       float64  239877.0  1183.084578   981.387215      0.000000   \nfeat_38       float64  239877.0   174.140099   155.291325      0.000000   \nfeat_39       float64  275281.0  1803.772138  1731.960266  -4941.820000   \nfeat_40       float64  275281.0    12.499544    18.731498      0.000000   \nfeat_41       float64  265591.0     1.423226     1.399693      0.000000   \nfeat_42       float64  215702.0    10.186489     9.331035      1.000000   \nfeat_43       float64  266735.0     2.643496     3.905495      1.000000   \nfeat_44       float64  279966.0     8.003565    20.210810     -1.000000   \nfeat_45       float64  279971.0    26.397884    59.924405     -1.000000   \nfeat_46       float64  280000.0     0.017822     0.098506      0.000000   \nclient_id      object       NaN          NaN          NaN           NaN   \n\n                     25%          50%          75%            max  \\\nreport_date          NaN          NaN          NaN            NaN   \nlabel           0.000000     0.000000     0.000000       1.000000   \nfeat_1          0.050800     3.450250    33.890000   18773.840000   \nfeat_2          0.227273     4.333333    11.833333    2953.363636   \nfeat_3        519.000000  1412.000000  3094.000000   17897.000000   \nfeat_4          0.000000     8.000000    29.000000      30.000000   \nfeat_5          3.000000     5.000000     9.000000    2785.000000   \nfeat_6          0.000000     0.000000     0.000000      13.000000   \nfeat_7         99.000000   239.975000   372.019925    9272.209700   \nfeat_8          0.000000     0.000000    10.000000      30.000000   \nfeat_9          0.220271     0.708205     1.602290      68.560196   \nfeat_10         0.153891     0.562133     1.210783     295.229345   \nfeat_11         5.986002    20.160908   110.121039   11596.159010   \nfeat_12        99.010000   228.000000   400.000000  524148.310000   \nfeat_13      1067.830882  1843.563492  2511.000000    6990.000000   \nfeat_14         0.000000     0.000000     0.000000    1773.000000   \nfeat_15        50.000000   127.666667   250.000000   15000.000000   \nfeat_16         0.350458     0.890458     1.673125       8.580824   \nfeat_17        12.050123    43.834454    94.101150   19427.766250   \nfeat_18        50.700275   110.740000   249.524525   54714.334200   \nfeat_19         0.000000     7.491375   194.768805   29102.669935   \nfeat_20         0.160000     0.660000     0.920000       1.000000   \nfeat_21         0.290000     0.500000     0.640000       1.000000   \nfeat_22         0.000000     0.386379     0.512347       1.000000   \nfeat_23        90.000000   290.000000   660.000000   22185.000000   \nfeat_24         0.350000     0.500000     0.650000       1.000000   \nfeat_25         0.000000     0.030000     0.220000       1.000000   \nfeat_26         0.026447     0.087607     0.439919      40.935262   \nfeat_27         0.030000     0.090000     0.170000       1.000000   \nfeat_28       260.987314   603.566826  1110.427154   39145.099369   \nfeat_29         0.599661     0.726205     0.823298       1.000000   \nfeat_30        57.000000   129.000000   238.000000   64734.000000   \nfeat_31         9.000000    18.000000    32.000000    3168.000000   \nfeat_32        10.000000   199.000000   299.000000    3000.000000   \nfeat_33         0.000000     5.000000     6.000000     192.000000   \nfeat_34         0.000000     0.000000     0.000000    7500.000000   \nfeat_35         1.000000     1.000000    23.000000     241.000000   \nfeat_36         6.000000    10.000000   118.000000    1473.000000   \nfeat_37       352.000000  1139.999400  1769.999500   22461.484500   \nfeat_38         4.840000   189.999900   290.000000    1500.004200   \nfeat_39       678.020000  1460.000000  2386.020000   62002.790000   \nfeat_40         5.000000     8.000000    14.000000    4026.000000   \nfeat_41         1.000000     1.000000     2.000000      68.000000   \nfeat_42         1.000000     8.000000    18.000000      30.000000   \nfeat_43         1.000000     1.000000     2.000000      30.000000   \nfeat_44         2.000000     3.000000    11.000000    2969.000000   \nfeat_45         6.000000    14.000000    24.000000    2320.000000   \nfeat_46         0.000000     0.000000     0.000000       1.000000   \nclient_id            NaN          NaN          NaN            NaN   \n\n             unique_values  missing_values  \nreport_date              4               0  \nlabel                    2               0  \nfeat_1              126640               0  \nfeat_2                7358               0  \nfeat_3                6102               0  \nfeat_4                  31               0  \nfeat_5                 187               0  \nfeat_6                  14               0  \nfeat_7               61993               0  \nfeat_8                  31               0  \nfeat_9              268561               0  \nfeat_10             278332               0  \nfeat_11             175705               0  \nfeat_12              16580               0  \nfeat_13             144343               0  \nfeat_14               3840               0  \nfeat_15              20880               0  \nfeat_16             207220               0  \nfeat_17             257426               0  \nfeat_18             168649               0  \nfeat_19             164487               0  \nfeat_20                101               0  \nfeat_21                 99               0  \nfeat_22             146865               0  \nfeat_23               4394               0  \nfeat_24                101               0  \nfeat_25                101               0  \nfeat_26             275151               0  \nfeat_27                100               0  \nfeat_28             270141               0  \nfeat_29             246309               0  \nfeat_30               2235               0  \nfeat_31                413               0  \nfeat_32                856           40123  \nfeat_33                192           40123  \nfeat_34               2916           40123  \nfeat_35                168           40123  \nfeat_36                803           40123  \nfeat_37              52290           40123  \nfeat_38               1164           40123  \nfeat_39              71513            4719  \nfeat_40                293            4719  \nfeat_41                 39           14409  \nfeat_42                 30           64298  \nfeat_43                 30           13265  \nfeat_44                403              34  \nfeat_45                953              29  \nfeat_46                101               0  \nclient_id           280000               0  ",
      "text/html": "<div>\n<style scoped>\n    .dataframe tbody tr th:only-of-type {\n        vertical-align: middle;\n    }\n\n    .dataframe tbody tr th {\n        vertical-align: top;\n    }\n\n    .dataframe thead th {\n        text-align: right;\n    }\n</style>\n<table border=\"1\" class=\"dataframe\">\n  <thead>\n    <tr style=\"text-align: right;\">\n      <th></th>\n      <th>data_type</th>\n      <th>count</th>\n      <th>mean</th>\n      <th>std</th>\n      <th>min</th>\n      <th>25%</th>\n      <th>50%</th>\n      <th>75%</th>\n      <th>max</th>\n      <th>unique_values</th>\n      <th>missing_values</th>\n    </tr>\n  </thead>\n  <tbody>\n    <tr>\n      <th>report_date</th>\n      <td>object</td>\n      <td>NaN</td>\n      <td>NaN</td>\n      <td>NaN</td>\n      <td>NaN</td>\n      <td>NaN</td>\n      <td>NaN</td>\n      <td>NaN</td>\n      <td>NaN</td>\n      <td>4</td>\n      <td>0</td>\n    </tr>\n    <tr>\n      <th>label</th>\n      <td>int64</td>\n      <td>280000.0</td>\n      <td>0.142857</td>\n      <td>0.349928</td>\n      <td>0.000000</td>\n      <td>0.000000</td>\n      <td>0.000000</td>\n      <td>0.000000</td>\n      <td>1.000000</td>\n      <td>2</td>\n      <td>0</td>\n    </tr>\n    <tr>\n      <th>feat_1</th>\n      <td>float64</td>\n      <td>280000.0</td>\n      <td>23.893187</td>\n      <td>181.351308</td>\n      <td>-11573.226900</td>\n      <td>0.050800</td>\n      <td>3.450250</td>\n      <td>33.890000</td>\n      <td>18773.840000</td>\n      <td>126640</td>\n      <td>0</td>\n    </tr>\n    <tr>\n      <th>feat_2</th>\n      <td>float64</td>\n      <td>280000.0</td>\n      <td>8.427203</td>\n      <td>23.424582</td>\n      <td>-1.000000</td>\n      <td>0.227273</td>\n      <td>4.333333</td>\n      <td>11.833333</td>\n      <td>2953.363636</td>\n      <td>7358</td>\n      <td>0</td>\n    </tr>\n    <tr>\n      <th>feat_3</th>\n      <td>int64</td>\n      <td>280000.0</td>\n      <td>1881.572993</td>\n      <td>1541.856057</td>\n      <td>61.000000</td>\n      <td>519.000000</td>\n      <td>1412.000000</td>\n      <td>3094.000000</td>\n      <td>17897.000000</td>\n      <td>6102</td>\n      <td>0</td>\n    </tr>\n    <tr>\n      <th>feat_4</th>\n      <td>int64</td>\n      <td>280000.0</td>\n      <td>13.243425</td>\n      <td>13.445184</td>\n      <td>0.000000</td>\n      <td>0.000000</td>\n      <td>8.000000</td>\n      <td>29.000000</td>\n      <td>30.000000</td>\n      <td>31</td>\n      <td>0</td>\n    </tr>\n    <tr>\n      <th>feat_5</th>\n      <td>int64</td>\n      <td>280000.0</td>\n      <td>7.022521</td>\n      <td>9.679502</td>\n      <td>0.000000</td>\n      <td>3.000000</td>\n      <td>5.000000</td>\n      <td>9.000000</td>\n      <td>2785.000000</td>\n      <td>187</td>\n      <td>0</td>\n    </tr>\n    <tr>\n      <th>feat_6</th>\n      <td>int64</td>\n      <td>280000.0</td>\n      <td>0.834732</td>\n      <td>2.219580</td>\n      <td>0.000000</td>\n      <td>0.000000</td>\n      <td>0.000000</td>\n      <td>0.000000</td>\n      <td>13.000000</td>\n      <td>14</td>\n      <td>0</td>\n    </tr>\n    <tr>\n      <th>feat_7</th>\n      <td>float64</td>\n      <td>280000.0</td>\n      <td>278.751168</td>\n      <td>266.851525</td>\n      <td>0.020000</td>\n      <td>99.000000</td>\n      <td>239.975000</td>\n      <td>372.019925</td>\n      <td>9272.209700</td>\n      <td>61993</td>\n      <td>0</td>\n    </tr>\n    <tr>\n      <th>feat_8</th>\n      <td>int64</td>\n      <td>280000.0</td>\n      <td>5.725643</td>\n      <td>8.435074</td>\n      <td>0.000000</td>\n      <td>0.000000</td>\n      <td>0.000000</td>\n      <td>10.000000</td>\n      <td>30.000000</td>\n      <td>31</td>\n      <td>0</td>\n    </tr>\n    <tr>\n      <th>feat_9</th>\n      <td>float64</td>\n      <td>280000.0</td>\n      <td>1.175534</td>\n      <td>1.467934</td>\n      <td>0.000000</td>\n      <td>0.220271</td>\n      <td>0.708205</td>\n      <td>1.602290</td>\n      <td>68.560196</td>\n      <td>268561</td>\n      <td>0</td>\n    </tr>\n    <tr>\n      <th>feat_10</th>\n      <td>float64</td>\n      <td>280000.0</td>\n      <td>0.968186</td>\n      <td>2.481911</td>\n      <td>-37.654533</td>\n      <td>0.153891</td>\n      <td>0.562133</td>\n      <td>1.210783</td>\n      <td>295.229345</td>\n      <td>278332</td>\n      <td>0</td>\n    </tr>\n    <tr>\n      <th>feat_11</th>\n      <td>float64</td>\n      <td>280000.0</td>\n      <td>86.885744</td>\n      <td>157.388333</td>\n      <td>0.176685</td>\n      <td>5.986002</td>\n      <td>20.160908</td>\n      <td>110.121039</td>\n      <td>11596.159010</td>\n      <td>175705</td>\n      <td>0</td>\n    </tr>\n    <tr>\n      <th>feat_12</th>\n      <td>float64</td>\n      <td>280000.0</td>\n      <td>329.576111</td>\n      <td>2808.883413</td>\n      <td>0.000000</td>\n      <td>99.010000</td>\n      <td>228.000000</td>\n      <td>400.000000</td>\n      <td>524148.310000</td>\n      <td>16580</td>\n      <td>0</td>\n    </tr>\n    <tr>\n      <th>feat_13</th>\n      <td>float64</td>\n      <td>280000.0</td>\n      <td>1812.682631</td>\n      <td>996.645362</td>\n      <td>0.000000</td>\n      <td>1067.830882</td>\n      <td>1843.563492</td>\n      <td>2511.000000</td>\n      <td>6990.000000</td>\n      <td>144343</td>\n      <td>0</td>\n    </tr>\n    <tr>\n      <th>feat_14</th>\n      <td>int64</td>\n      <td>280000.0</td>\n      <td>-47.667832</td>\n      <td>420.785649</td>\n      <td>-6491.000000</td>\n      <td>0.000000</td>\n      <td>0.000000</td>\n      <td>0.000000</td>\n      <td>1773.000000</td>\n      <td>3840</td>\n      <td>0</td>\n    </tr>\n    <tr>\n      <th>feat_15</th>\n      <td>float64</td>\n      <td>280000.0</td>\n      <td>166.171717</td>\n      <td>179.913554</td>\n      <td>0.000000</td>\n      <td>50.000000</td>\n      <td>127.666667</td>\n      <td>250.000000</td>\n      <td>15000.000000</td>\n      <td>20880</td>\n      <td>0</td>\n    </tr>\n    <tr>\n      <th>feat_16</th>\n      <td>float64</td>\n      <td>280000.0</td>\n      <td>1.034440</td>\n      <td>0.770239</td>\n      <td>0.024480</td>\n      <td>0.350458</td>\n      <td>0.890458</td>\n      <td>1.673125</td>\n      <td>8.580824</td>\n      <td>207220</td>\n      <td>0</td>\n    </tr>\n    <tr>\n      <th>feat_17</th>\n      <td>float64</td>\n      <td>280000.0</td>\n      <td>78.212950</td>\n      <td>207.081139</td>\n      <td>-2754.258182</td>\n      <td>12.050123</td>\n      <td>43.834454</td>\n      <td>94.101150</td>\n      <td>19427.766250</td>\n      <td>257426</td>\n      <td>0</td>\n    </tr>\n    <tr>\n      <th>feat_18</th>\n      <td>float64</td>\n      <td>280000.0</td>\n      <td>185.322395</td>\n      <td>360.392720</td>\n      <td>-2722.440000</td>\n      <td>50.700275</td>\n      <td>110.740000</td>\n      <td>249.524525</td>\n      <td>54714.334200</td>\n      <td>168649</td>\n      <td>0</td>\n    </tr>\n    <tr>\n      <th>feat_19</th>\n      <td>float64</td>\n      <td>280000.0</td>\n      <td>198.574570</td>\n      <td>463.626833</td>\n      <td>0.000000</td>\n      <td>0.000000</td>\n      <td>7.491375</td>\n      <td>194.768805</td>\n      <td>29102.669935</td>\n      <td>164487</td>\n      <td>0</td>\n    </tr>\n    <tr>\n      <th>feat_20</th>\n      <td>float64</td>\n      <td>280000.0</td>\n      <td>0.554901</td>\n      <td>0.376960</td>\n      <td>0.000000</td>\n      <td>0.160000</td>\n      <td>0.660000</td>\n      <td>0.920000</td>\n      <td>1.000000</td>\n      <td>101</td>\n      <td>0</td>\n    </tr>\n    <tr>\n      <th>feat_21</th>\n      <td>float64</td>\n      <td>280000.0</td>\n      <td>0.461268</td>\n      <td>0.267118</td>\n      <td>0.000000</td>\n      <td>0.290000</td>\n      <td>0.500000</td>\n      <td>0.640000</td>\n      <td>1.000000</td>\n      <td>99</td>\n      <td>0</td>\n    </tr>\n    <tr>\n      <th>feat_22</th>\n      <td>float64</td>\n      <td>280000.0</td>\n      <td>0.284283</td>\n      <td>0.285554</td>\n      <td>0.000000</td>\n      <td>0.000000</td>\n      <td>0.386379</td>\n      <td>0.512347</td>\n      <td>1.000000</td>\n      <td>146865</td>\n      <td>0</td>\n    </tr>\n    <tr>\n      <th>feat_23</th>\n      <td>int64</td>\n      <td>280000.0</td>\n      <td>486.833432</td>\n      <td>610.765552</td>\n      <td>0.000000</td>\n      <td>90.000000</td>\n      <td>290.000000</td>\n      <td>660.000000</td>\n      <td>22185.000000</td>\n      <td>4394</td>\n      <td>0</td>\n    </tr>\n    <tr>\n      <th>feat_24</th>\n      <td>float64</td>\n      <td>280000.0</td>\n      <td>0.494290</td>\n      <td>0.237345</td>\n      <td>0.000000</td>\n      <td>0.350000</td>\n      <td>0.500000</td>\n      <td>0.650000</td>\n      <td>1.000000</td>\n      <td>101</td>\n      <td>0</td>\n    </tr>\n    <tr>\n      <th>feat_25</th>\n      <td>float64</td>\n      <td>280000.0</td>\n      <td>0.123140</td>\n      <td>0.168866</td>\n      <td>0.000000</td>\n      <td>0.000000</td>\n      <td>0.030000</td>\n      <td>0.220000</td>\n      <td>1.000000</td>\n      <td>101</td>\n      <td>0</td>\n    </tr>\n    <tr>\n      <th>feat_26</th>\n      <td>float64</td>\n      <td>280000.0</td>\n      <td>0.344394</td>\n      <td>0.612414</td>\n      <td>0.000430</td>\n      <td>0.026447</td>\n      <td>0.087607</td>\n      <td>0.439919</td>\n      <td>40.935262</td>\n      <td>275151</td>\n      <td>0</td>\n    </tr>\n    <tr>\n      <th>feat_27</th>\n      <td>float64</td>\n      <td>280000.0</td>\n      <td>0.115087</td>\n      <td>0.108565</td>\n      <td>0.000000</td>\n      <td>0.030000</td>\n      <td>0.090000</td>\n      <td>0.170000</td>\n      <td>1.000000</td>\n      <td>100</td>\n      <td>0</td>\n    </tr>\n    <tr>\n      <th>feat_28</th>\n      <td>float64</td>\n      <td>280000.0</td>\n      <td>811.648974</td>\n      <td>814.009729</td>\n      <td>0.000000</td>\n      <td>260.987314</td>\n      <td>603.566826</td>\n      <td>1110.427154</td>\n      <td>39145.099369</td>\n      <td>270141</td>\n      <td>0</td>\n    </tr>\n    <tr>\n      <th>feat_29</th>\n      <td>float64</td>\n      <td>280000.0</td>\n      <td>0.664580</td>\n      <td>0.251266</td>\n      <td>0.000000</td>\n      <td>0.599661</td>\n      <td>0.726205</td>\n      <td>0.823298</td>\n      <td>1.000000</td>\n      <td>246309</td>\n      <td>0</td>\n    </tr>\n    <tr>\n      <th>feat_30</th>\n      <td>int64</td>\n      <td>280000.0</td>\n      <td>184.295871</td>\n      <td>313.485533</td>\n      <td>0.000000</td>\n      <td>57.000000</td>\n      <td>129.000000</td>\n      <td>238.000000</td>\n      <td>64734.000000</td>\n      <td>2235</td>\n      <td>0</td>\n    </tr>\n    <tr>\n      <th>feat_31</th>\n      <td>int64</td>\n      <td>280000.0</td>\n      <td>25.012593</td>\n      <td>28.535772</td>\n      <td>0.000000</td>\n      <td>9.000000</td>\n      <td>18.000000</td>\n      <td>32.000000</td>\n      <td>3168.000000</td>\n      <td>413</td>\n      <td>0</td>\n    </tr>\n    <tr>\n      <th>feat_32</th>\n      <td>float64</td>\n      <td>239877.0</td>\n      <td>198.469641</td>\n      <td>154.989434</td>\n      <td>0.000000</td>\n      <td>10.000000</td>\n      <td>199.000000</td>\n      <td>299.000000</td>\n      <td>3000.000000</td>\n      <td>856</td>\n      <td>40123</td>\n    </tr>\n    <tr>\n      <th>feat_33</th>\n      <td>float64</td>\n      <td>239877.0</td>\n      <td>8.677564</td>\n      <td>24.475113</td>\n      <td>0.000000</td>\n      <td>0.000000</td>\n      <td>5.000000</td>\n      <td>6.000000</td>\n      <td>192.000000</td>\n      <td>192</td>\n      <td>40123</td>\n    </tr>\n    <tr>\n      <th>feat_34</th>\n      <td>float64</td>\n      <td>239877.0</td>\n      <td>22.280593</td>\n      <td>118.153642</td>\n      <td>0.000000</td>\n      <td>0.000000</td>\n      <td>0.000000</td>\n      <td>0.000000</td>\n      <td>7500.000000</td>\n      <td>2916</td>\n      <td>40123</td>\n    </tr>\n    <tr>\n      <th>feat_35</th>\n      <td>float64</td>\n      <td>239877.0</td>\n      <td>11.314486</td>\n      <td>17.366159</td>\n      <td>0.000000</td>\n      <td>1.000000</td>\n      <td>1.000000</td>\n      <td>23.000000</td>\n      <td>241.000000</td>\n      <td>168</td>\n      <td>40123</td>\n    </tr>\n    <tr>\n      <th>feat_36</th>\n      <td>float64</td>\n      <td>239877.0</td>\n      <td>66.462625</td>\n      <td>99.922425</td>\n      <td>0.000000</td>\n      <td>6.000000</td>\n      <td>10.000000</td>\n      <td>118.000000</td>\n      <td>1473.000000</td>\n      <td>803</td>\n      <td>40123</td>\n    </tr>\n    <tr>\n      <th>feat_37</th>\n      <td>float64</td>\n      <td>239877.0</td>\n      <td>1183.084578</td>\n      <td>981.387215</td>\n      <td>0.000000</td>\n      <td>352.000000</td>\n      <td>1139.999400</td>\n      <td>1769.999500</td>\n      <td>22461.484500</td>\n      <td>52290</td>\n      <td>40123</td>\n    </tr>\n    <tr>\n      <th>feat_38</th>\n      <td>float64</td>\n      <td>239877.0</td>\n      <td>174.140099</td>\n      <td>155.291325</td>\n      <td>0.000000</td>\n      <td>4.840000</td>\n      <td>189.999900</td>\n      <td>290.000000</td>\n      <td>1500.004200</td>\n      <td>1164</td>\n      <td>40123</td>\n    </tr>\n    <tr>\n      <th>feat_39</th>\n      <td>float64</td>\n      <td>275281.0</td>\n      <td>1803.772138</td>\n      <td>1731.960266</td>\n      <td>-4941.820000</td>\n      <td>678.020000</td>\n      <td>1460.000000</td>\n      <td>2386.020000</td>\n      <td>62002.790000</td>\n      <td>71513</td>\n      <td>4719</td>\n    </tr>\n    <tr>\n      <th>feat_40</th>\n      <td>float64</td>\n      <td>275281.0</td>\n      <td>12.499544</td>\n      <td>18.731498</td>\n      <td>0.000000</td>\n      <td>5.000000</td>\n      <td>8.000000</td>\n      <td>14.000000</td>\n      <td>4026.000000</td>\n      <td>293</td>\n      <td>4719</td>\n    </tr>\n    <tr>\n      <th>feat_41</th>\n      <td>float64</td>\n      <td>265591.0</td>\n      <td>1.423226</td>\n      <td>1.399693</td>\n      <td>0.000000</td>\n      <td>1.000000</td>\n      <td>1.000000</td>\n      <td>2.000000</td>\n      <td>68.000000</td>\n      <td>39</td>\n      <td>14409</td>\n    </tr>\n    <tr>\n      <th>feat_42</th>\n      <td>float64</td>\n      <td>215702.0</td>\n      <td>10.186489</td>\n      <td>9.331035</td>\n      <td>1.000000</td>\n      <td>1.000000</td>\n      <td>8.000000</td>\n      <td>18.000000</td>\n      <td>30.000000</td>\n      <td>30</td>\n      <td>64298</td>\n    </tr>\n    <tr>\n      <th>feat_43</th>\n      <td>float64</td>\n      <td>266735.0</td>\n      <td>2.643496</td>\n      <td>3.905495</td>\n      <td>1.000000</td>\n      <td>1.000000</td>\n      <td>1.000000</td>\n      <td>2.000000</td>\n      <td>30.000000</td>\n      <td>30</td>\n      <td>13265</td>\n    </tr>\n    <tr>\n      <th>feat_44</th>\n      <td>float64</td>\n      <td>279966.0</td>\n      <td>8.003565</td>\n      <td>20.210810</td>\n      <td>-1.000000</td>\n      <td>2.000000</td>\n      <td>3.000000</td>\n      <td>11.000000</td>\n      <td>2969.000000</td>\n      <td>403</td>\n      <td>34</td>\n    </tr>\n    <tr>\n      <th>feat_45</th>\n      <td>float64</td>\n      <td>279971.0</td>\n      <td>26.397884</td>\n      <td>59.924405</td>\n      <td>-1.000000</td>\n      <td>6.000000</td>\n      <td>14.000000</td>\n      <td>24.000000</td>\n      <td>2320.000000</td>\n      <td>953</td>\n      <td>29</td>\n    </tr>\n    <tr>\n      <th>feat_46</th>\n      <td>float64</td>\n      <td>280000.0</td>\n      <td>0.017822</td>\n      <td>0.098506</td>\n      <td>0.000000</td>\n      <td>0.000000</td>\n      <td>0.000000</td>\n      <td>0.000000</td>\n      <td>1.000000</td>\n      <td>101</td>\n      <td>0</td>\n    </tr>\n    <tr>\n      <th>client_id</th>\n      <td>object</td>\n      <td>NaN</td>\n      <td>NaN</td>\n      <td>NaN</td>\n      <td>NaN</td>\n      <td>NaN</td>\n      <td>NaN</td>\n      <td>NaN</td>\n      <td>NaN</td>\n      <td>280000</td>\n      <td>0</td>\n    </tr>\n  </tbody>\n</table>\n</div>"
     },
     "metadata": {},
     "output_type": "execute_result",
     "execution_count": 68
    },
    {
     "data": {
      "text/plain": "            data_type     count         mean          std           min  \\\nreport_date    object       NaN          NaN          NaN           NaN   \nlabel           int64  280000.0     0.142857     0.349928      0.000000   \nfeat_1        float64  280000.0    23.893187   181.351308 -11573.226900   \nfeat_2        float64  280000.0     8.427203    23.424582     -1.000000   \nfeat_3          int64  280000.0  1881.572993  1541.856057     61.000000   \nfeat_4          int64  280000.0    13.243425    13.445184      0.000000   \nfeat_5          int64  280000.0     7.022521     9.679502      0.000000   \nfeat_6          int64  280000.0     0.834732     2.219580      0.000000   \nfeat_7        float64  280000.0   278.751168   266.851525      0.020000   \nfeat_8          int64  280000.0     5.725643     8.435074      0.000000   \nfeat_9        float64  280000.0     1.175534     1.467934      0.000000   \nfeat_10       float64  280000.0     0.968186     2.481911    -37.654533   \nfeat_11       float64  280000.0    86.885744   157.388333      0.176685   \nfeat_12       float64  280000.0   329.576111  2808.883413      0.000000   \nfeat_13       float64  280000.0  1812.682631   996.645362      0.000000   \nfeat_14         int64  280000.0   -47.667832   420.785649  -6491.000000   \nfeat_15       float64  280000.0   166.171717   179.913554      0.000000   \nfeat_16       float64  280000.0     1.034440     0.770239      0.024480   \nfeat_17       float64  280000.0    78.212950   207.081139  -2754.258182   \nfeat_18       float64  280000.0   185.322395   360.392720  -2722.440000   \nfeat_19       float64  280000.0   198.574570   463.626833      0.000000   \nfeat_20       float64  280000.0     0.554901     0.376960      0.000000   \nfeat_21       float64  280000.0     0.461268     0.267118      0.000000   \nfeat_22       float64  280000.0     0.284283     0.285554      0.000000   \nfeat_23         int64  280000.0   486.833432   610.765552      0.000000   \nfeat_24       float64  280000.0     0.494290     0.237345      0.000000   \nfeat_25       float64  280000.0     0.123140     0.168866      0.000000   \nfeat_26       float64  280000.0     0.344394     0.612414      0.000430   \nfeat_27       float64  280000.0     0.115087     0.108565      0.000000   \nfeat_28       float64  280000.0   811.648974   814.009729      0.000000   \nfeat_29       float64  280000.0     0.664580     0.251266      0.000000   \nfeat_30         int64  280000.0   184.295871   313.485533      0.000000   \nfeat_31         int64  280000.0    25.012593    28.535772      0.000000   \nfeat_32       float64  239877.0   198.469641   154.989434      0.000000   \nfeat_33       float64  239877.0     8.677564    24.475113      0.000000   \nfeat_34       float64  239877.0    22.280593   118.153642      0.000000   \nfeat_35       float64  239877.0    11.314486    17.366159      0.000000   \nfeat_36       float64  239877.0    66.462625    99.922425      0.000000   \nfeat_37       float64  239877.0  1183.084578   981.387215      0.000000   \nfeat_38       float64  239877.0   174.140099   155.291325      0.000000   \nfeat_39       float64  275281.0  1803.772138  1731.960266  -4941.820000   \nfeat_40       float64  275281.0    12.499544    18.731498      0.000000   \nfeat_41       float64  265591.0     1.423226     1.399693      0.000000   \nfeat_42       float64  215702.0    10.186489     9.331035      1.000000   \nfeat_43       float64  266735.0     2.643496     3.905495      1.000000   \nfeat_44       float64  279966.0     8.003565    20.210810     -1.000000   \nfeat_45       float64  279971.0    26.397884    59.924405     -1.000000   \nfeat_46       float64  280000.0     0.017822     0.098506      0.000000   \nclient_id      object       NaN          NaN          NaN           NaN   \n\n                     25%          50%          75%            max  \\\nreport_date          NaN          NaN          NaN            NaN   \nlabel           0.000000     0.000000     0.000000       1.000000   \nfeat_1          0.050800     3.450250    33.890000   18773.840000   \nfeat_2          0.227273     4.333333    11.833333    2953.363636   \nfeat_3        519.000000  1412.000000  3094.000000   17897.000000   \nfeat_4          0.000000     8.000000    29.000000      30.000000   \nfeat_5          3.000000     5.000000     9.000000    2785.000000   \nfeat_6          0.000000     0.000000     0.000000      13.000000   \nfeat_7         99.000000   239.975000   372.019925    9272.209700   \nfeat_8          0.000000     0.000000    10.000000      30.000000   \nfeat_9          0.220271     0.708205     1.602290      68.560196   \nfeat_10         0.153891     0.562133     1.210783     295.229345   \nfeat_11         5.986002    20.160908   110.121039   11596.159010   \nfeat_12        99.010000   228.000000   400.000000  524148.310000   \nfeat_13      1067.830882  1843.563492  2511.000000    6990.000000   \nfeat_14         0.000000     0.000000     0.000000    1773.000000   \nfeat_15        50.000000   127.666667   250.000000   15000.000000   \nfeat_16         0.350458     0.890458     1.673125       8.580824   \nfeat_17        12.050123    43.834454    94.101150   19427.766250   \nfeat_18        50.700275   110.740000   249.524525   54714.334200   \nfeat_19         0.000000     7.491375   194.768805   29102.669935   \nfeat_20         0.160000     0.660000     0.920000       1.000000   \nfeat_21         0.290000     0.500000     0.640000       1.000000   \nfeat_22         0.000000     0.386379     0.512347       1.000000   \nfeat_23        90.000000   290.000000   660.000000   22185.000000   \nfeat_24         0.350000     0.500000     0.650000       1.000000   \nfeat_25         0.000000     0.030000     0.220000       1.000000   \nfeat_26         0.026447     0.087607     0.439919      40.935262   \nfeat_27         0.030000     0.090000     0.170000       1.000000   \nfeat_28       260.987314   603.566826  1110.427154   39145.099369   \nfeat_29         0.599661     0.726205     0.823298       1.000000   \nfeat_30        57.000000   129.000000   238.000000   64734.000000   \nfeat_31         9.000000    18.000000    32.000000    3168.000000   \nfeat_32        10.000000   199.000000   299.000000    3000.000000   \nfeat_33         0.000000     5.000000     6.000000     192.000000   \nfeat_34         0.000000     0.000000     0.000000    7500.000000   \nfeat_35         1.000000     1.000000    23.000000     241.000000   \nfeat_36         6.000000    10.000000   118.000000    1473.000000   \nfeat_37       352.000000  1139.999400  1769.999500   22461.484500   \nfeat_38         4.840000   189.999900   290.000000    1500.004200   \nfeat_39       678.020000  1460.000000  2386.020000   62002.790000   \nfeat_40         5.000000     8.000000    14.000000    4026.000000   \nfeat_41         1.000000     1.000000     2.000000      68.000000   \nfeat_42         1.000000     8.000000    18.000000      30.000000   \nfeat_43         1.000000     1.000000     2.000000      30.000000   \nfeat_44         2.000000     3.000000    11.000000    2969.000000   \nfeat_45         6.000000    14.000000    24.000000    2320.000000   \nfeat_46         0.000000     0.000000     0.000000       1.000000   \nclient_id            NaN          NaN          NaN            NaN   \n\n             unique_values  missing_values  \nreport_date              4               0  \nlabel                    2               0  \nfeat_1              126640               0  \nfeat_2                7358               0  \nfeat_3                6102               0  \nfeat_4                  31               0  \nfeat_5                 187               0  \nfeat_6                  14               0  \nfeat_7               61993               0  \nfeat_8                  31               0  \nfeat_9              268561               0  \nfeat_10             278332               0  \nfeat_11             175705               0  \nfeat_12              16580               0  \nfeat_13             144343               0  \nfeat_14               3840               0  \nfeat_15              20880               0  \nfeat_16             207220               0  \nfeat_17             257426               0  \nfeat_18             168649               0  \nfeat_19             164487               0  \nfeat_20                101               0  \nfeat_21                 99               0  \nfeat_22             146865               0  \nfeat_23               4394               0  \nfeat_24                101               0  \nfeat_25                101               0  \nfeat_26             275151               0  \nfeat_27                100               0  \nfeat_28             270141               0  \nfeat_29             246309               0  \nfeat_30               2235               0  \nfeat_31                413               0  \nfeat_32                856           40123  \nfeat_33                192           40123  \nfeat_34               2916           40123  \nfeat_35                168           40123  \nfeat_36                803           40123  \nfeat_37              52290           40123  \nfeat_38               1164           40123  \nfeat_39              71513            4719  \nfeat_40                293            4719  \nfeat_41                 39           14409  \nfeat_42                 30           64298  \nfeat_43                 30           13265  \nfeat_44                403              34  \nfeat_45                953              29  \nfeat_46                101               0  \nclient_id           280000               0  ",
      "text/html": "<div>\n<style scoped>\n    .dataframe tbody tr th:only-of-type {\n        vertical-align: middle;\n    }\n\n    .dataframe tbody tr th {\n        vertical-align: top;\n    }\n\n    .dataframe thead th {\n        text-align: right;\n    }\n</style>\n<table border=\"1\" class=\"dataframe\">\n  <thead>\n    <tr style=\"text-align: right;\">\n      <th></th>\n      <th>data_type</th>\n      <th>count</th>\n      <th>mean</th>\n      <th>std</th>\n      <th>min</th>\n      <th>25%</th>\n      <th>50%</th>\n      <th>75%</th>\n      <th>max</th>\n      <th>unique_values</th>\n      <th>missing_values</th>\n    </tr>\n  </thead>\n  <tbody>\n    <tr>\n      <th>report_date</th>\n      <td>object</td>\n      <td>NaN</td>\n      <td>NaN</td>\n      <td>NaN</td>\n      <td>NaN</td>\n      <td>NaN</td>\n      <td>NaN</td>\n      <td>NaN</td>\n      <td>NaN</td>\n      <td>4</td>\n      <td>0</td>\n    </tr>\n    <tr>\n      <th>label</th>\n      <td>int64</td>\n      <td>280000.0</td>\n      <td>0.142857</td>\n      <td>0.349928</td>\n      <td>0.000000</td>\n      <td>0.000000</td>\n      <td>0.000000</td>\n      <td>0.000000</td>\n      <td>1.000000</td>\n      <td>2</td>\n      <td>0</td>\n    </tr>\n    <tr>\n      <th>feat_1</th>\n      <td>float64</td>\n      <td>280000.0</td>\n      <td>23.893187</td>\n      <td>181.351308</td>\n      <td>-11573.226900</td>\n      <td>0.050800</td>\n      <td>3.450250</td>\n      <td>33.890000</td>\n      <td>18773.840000</td>\n      <td>126640</td>\n      <td>0</td>\n    </tr>\n    <tr>\n      <th>feat_2</th>\n      <td>float64</td>\n      <td>280000.0</td>\n      <td>8.427203</td>\n      <td>23.424582</td>\n      <td>-1.000000</td>\n      <td>0.227273</td>\n      <td>4.333333</td>\n      <td>11.833333</td>\n      <td>2953.363636</td>\n      <td>7358</td>\n      <td>0</td>\n    </tr>\n    <tr>\n      <th>feat_3</th>\n      <td>int64</td>\n      <td>280000.0</td>\n      <td>1881.572993</td>\n      <td>1541.856057</td>\n      <td>61.000000</td>\n      <td>519.000000</td>\n      <td>1412.000000</td>\n      <td>3094.000000</td>\n      <td>17897.000000</td>\n      <td>6102</td>\n      <td>0</td>\n    </tr>\n    <tr>\n      <th>feat_4</th>\n      <td>int64</td>\n      <td>280000.0</td>\n      <td>13.243425</td>\n      <td>13.445184</td>\n      <td>0.000000</td>\n      <td>0.000000</td>\n      <td>8.000000</td>\n      <td>29.000000</td>\n      <td>30.000000</td>\n      <td>31</td>\n      <td>0</td>\n    </tr>\n    <tr>\n      <th>feat_5</th>\n      <td>int64</td>\n      <td>280000.0</td>\n      <td>7.022521</td>\n      <td>9.679502</td>\n      <td>0.000000</td>\n      <td>3.000000</td>\n      <td>5.000000</td>\n      <td>9.000000</td>\n      <td>2785.000000</td>\n      <td>187</td>\n      <td>0</td>\n    </tr>\n    <tr>\n      <th>feat_6</th>\n      <td>int64</td>\n      <td>280000.0</td>\n      <td>0.834732</td>\n      <td>2.219580</td>\n      <td>0.000000</td>\n      <td>0.000000</td>\n      <td>0.000000</td>\n      <td>0.000000</td>\n      <td>13.000000</td>\n      <td>14</td>\n      <td>0</td>\n    </tr>\n    <tr>\n      <th>feat_7</th>\n      <td>float64</td>\n      <td>280000.0</td>\n      <td>278.751168</td>\n      <td>266.851525</td>\n      <td>0.020000</td>\n      <td>99.000000</td>\n      <td>239.975000</td>\n      <td>372.019925</td>\n      <td>9272.209700</td>\n      <td>61993</td>\n      <td>0</td>\n    </tr>\n    <tr>\n      <th>feat_8</th>\n      <td>int64</td>\n      <td>280000.0</td>\n      <td>5.725643</td>\n      <td>8.435074</td>\n      <td>0.000000</td>\n      <td>0.000000</td>\n      <td>0.000000</td>\n      <td>10.000000</td>\n      <td>30.000000</td>\n      <td>31</td>\n      <td>0</td>\n    </tr>\n    <tr>\n      <th>feat_9</th>\n      <td>float64</td>\n      <td>280000.0</td>\n      <td>1.175534</td>\n      <td>1.467934</td>\n      <td>0.000000</td>\n      <td>0.220271</td>\n      <td>0.708205</td>\n      <td>1.602290</td>\n      <td>68.560196</td>\n      <td>268561</td>\n      <td>0</td>\n    </tr>\n    <tr>\n      <th>feat_10</th>\n      <td>float64</td>\n      <td>280000.0</td>\n      <td>0.968186</td>\n      <td>2.481911</td>\n      <td>-37.654533</td>\n      <td>0.153891</td>\n      <td>0.562133</td>\n      <td>1.210783</td>\n      <td>295.229345</td>\n      <td>278332</td>\n      <td>0</td>\n    </tr>\n    <tr>\n      <th>feat_11</th>\n      <td>float64</td>\n      <td>280000.0</td>\n      <td>86.885744</td>\n      <td>157.388333</td>\n      <td>0.176685</td>\n      <td>5.986002</td>\n      <td>20.160908</td>\n      <td>110.121039</td>\n      <td>11596.159010</td>\n      <td>175705</td>\n      <td>0</td>\n    </tr>\n    <tr>\n      <th>feat_12</th>\n      <td>float64</td>\n      <td>280000.0</td>\n      <td>329.576111</td>\n      <td>2808.883413</td>\n      <td>0.000000</td>\n      <td>99.010000</td>\n      <td>228.000000</td>\n      <td>400.000000</td>\n      <td>524148.310000</td>\n      <td>16580</td>\n      <td>0</td>\n    </tr>\n    <tr>\n      <th>feat_13</th>\n      <td>float64</td>\n      <td>280000.0</td>\n      <td>1812.682631</td>\n      <td>996.645362</td>\n      <td>0.000000</td>\n      <td>1067.830882</td>\n      <td>1843.563492</td>\n      <td>2511.000000</td>\n      <td>6990.000000</td>\n      <td>144343</td>\n      <td>0</td>\n    </tr>\n    <tr>\n      <th>feat_14</th>\n      <td>int64</td>\n      <td>280000.0</td>\n      <td>-47.667832</td>\n      <td>420.785649</td>\n      <td>-6491.000000</td>\n      <td>0.000000</td>\n      <td>0.000000</td>\n      <td>0.000000</td>\n      <td>1773.000000</td>\n      <td>3840</td>\n      <td>0</td>\n    </tr>\n    <tr>\n      <th>feat_15</th>\n      <td>float64</td>\n      <td>280000.0</td>\n      <td>166.171717</td>\n      <td>179.913554</td>\n      <td>0.000000</td>\n      <td>50.000000</td>\n      <td>127.666667</td>\n      <td>250.000000</td>\n      <td>15000.000000</td>\n      <td>20880</td>\n      <td>0</td>\n    </tr>\n    <tr>\n      <th>feat_16</th>\n      <td>float64</td>\n      <td>280000.0</td>\n      <td>1.034440</td>\n      <td>0.770239</td>\n      <td>0.024480</td>\n      <td>0.350458</td>\n      <td>0.890458</td>\n      <td>1.673125</td>\n      <td>8.580824</td>\n      <td>207220</td>\n      <td>0</td>\n    </tr>\n    <tr>\n      <th>feat_17</th>\n      <td>float64</td>\n      <td>280000.0</td>\n      <td>78.212950</td>\n      <td>207.081139</td>\n      <td>-2754.258182</td>\n      <td>12.050123</td>\n      <td>43.834454</td>\n      <td>94.101150</td>\n      <td>19427.766250</td>\n      <td>257426</td>\n      <td>0</td>\n    </tr>\n    <tr>\n      <th>feat_18</th>\n      <td>float64</td>\n      <td>280000.0</td>\n      <td>185.322395</td>\n      <td>360.392720</td>\n      <td>-2722.440000</td>\n      <td>50.700275</td>\n      <td>110.740000</td>\n      <td>249.524525</td>\n      <td>54714.334200</td>\n      <td>168649</td>\n      <td>0</td>\n    </tr>\n    <tr>\n      <th>feat_19</th>\n      <td>float64</td>\n      <td>280000.0</td>\n      <td>198.574570</td>\n      <td>463.626833</td>\n      <td>0.000000</td>\n      <td>0.000000</td>\n      <td>7.491375</td>\n      <td>194.768805</td>\n      <td>29102.669935</td>\n      <td>164487</td>\n      <td>0</td>\n    </tr>\n    <tr>\n      <th>feat_20</th>\n      <td>float64</td>\n      <td>280000.0</td>\n      <td>0.554901</td>\n      <td>0.376960</td>\n      <td>0.000000</td>\n      <td>0.160000</td>\n      <td>0.660000</td>\n      <td>0.920000</td>\n      <td>1.000000</td>\n      <td>101</td>\n      <td>0</td>\n    </tr>\n    <tr>\n      <th>feat_21</th>\n      <td>float64</td>\n      <td>280000.0</td>\n      <td>0.461268</td>\n      <td>0.267118</td>\n      <td>0.000000</td>\n      <td>0.290000</td>\n      <td>0.500000</td>\n      <td>0.640000</td>\n      <td>1.000000</td>\n      <td>99</td>\n      <td>0</td>\n    </tr>\n    <tr>\n      <th>feat_22</th>\n      <td>float64</td>\n      <td>280000.0</td>\n      <td>0.284283</td>\n      <td>0.285554</td>\n      <td>0.000000</td>\n      <td>0.000000</td>\n      <td>0.386379</td>\n      <td>0.512347</td>\n      <td>1.000000</td>\n      <td>146865</td>\n      <td>0</td>\n    </tr>\n    <tr>\n      <th>feat_23</th>\n      <td>int64</td>\n      <td>280000.0</td>\n      <td>486.833432</td>\n      <td>610.765552</td>\n      <td>0.000000</td>\n      <td>90.000000</td>\n      <td>290.000000</td>\n      <td>660.000000</td>\n      <td>22185.000000</td>\n      <td>4394</td>\n      <td>0</td>\n    </tr>\n    <tr>\n      <th>feat_24</th>\n      <td>float64</td>\n      <td>280000.0</td>\n      <td>0.494290</td>\n      <td>0.237345</td>\n      <td>0.000000</td>\n      <td>0.350000</td>\n      <td>0.500000</td>\n      <td>0.650000</td>\n      <td>1.000000</td>\n      <td>101</td>\n      <td>0</td>\n    </tr>\n    <tr>\n      <th>feat_25</th>\n      <td>float64</td>\n      <td>280000.0</td>\n      <td>0.123140</td>\n      <td>0.168866</td>\n      <td>0.000000</td>\n      <td>0.000000</td>\n      <td>0.030000</td>\n      <td>0.220000</td>\n      <td>1.000000</td>\n      <td>101</td>\n      <td>0</td>\n    </tr>\n    <tr>\n      <th>feat_26</th>\n      <td>float64</td>\n      <td>280000.0</td>\n      <td>0.344394</td>\n      <td>0.612414</td>\n      <td>0.000430</td>\n      <td>0.026447</td>\n      <td>0.087607</td>\n      <td>0.439919</td>\n      <td>40.935262</td>\n      <td>275151</td>\n      <td>0</td>\n    </tr>\n    <tr>\n      <th>feat_27</th>\n      <td>float64</td>\n      <td>280000.0</td>\n      <td>0.115087</td>\n      <td>0.108565</td>\n      <td>0.000000</td>\n      <td>0.030000</td>\n      <td>0.090000</td>\n      <td>0.170000</td>\n      <td>1.000000</td>\n      <td>100</td>\n      <td>0</td>\n    </tr>\n    <tr>\n      <th>feat_28</th>\n      <td>float64</td>\n      <td>280000.0</td>\n      <td>811.648974</td>\n      <td>814.009729</td>\n      <td>0.000000</td>\n      <td>260.987314</td>\n      <td>603.566826</td>\n      <td>1110.427154</td>\n      <td>39145.099369</td>\n      <td>270141</td>\n      <td>0</td>\n    </tr>\n    <tr>\n      <th>feat_29</th>\n      <td>float64</td>\n      <td>280000.0</td>\n      <td>0.664580</td>\n      <td>0.251266</td>\n      <td>0.000000</td>\n      <td>0.599661</td>\n      <td>0.726205</td>\n      <td>0.823298</td>\n      <td>1.000000</td>\n      <td>246309</td>\n      <td>0</td>\n    </tr>\n    <tr>\n      <th>feat_30</th>\n      <td>int64</td>\n      <td>280000.0</td>\n      <td>184.295871</td>\n      <td>313.485533</td>\n      <td>0.000000</td>\n      <td>57.000000</td>\n      <td>129.000000</td>\n      <td>238.000000</td>\n      <td>64734.000000</td>\n      <td>2235</td>\n      <td>0</td>\n    </tr>\n    <tr>\n      <th>feat_31</th>\n      <td>int64</td>\n      <td>280000.0</td>\n      <td>25.012593</td>\n      <td>28.535772</td>\n      <td>0.000000</td>\n      <td>9.000000</td>\n      <td>18.000000</td>\n      <td>32.000000</td>\n      <td>3168.000000</td>\n      <td>413</td>\n      <td>0</td>\n    </tr>\n    <tr>\n      <th>feat_32</th>\n      <td>float64</td>\n      <td>239877.0</td>\n      <td>198.469641</td>\n      <td>154.989434</td>\n      <td>0.000000</td>\n      <td>10.000000</td>\n      <td>199.000000</td>\n      <td>299.000000</td>\n      <td>3000.000000</td>\n      <td>856</td>\n      <td>40123</td>\n    </tr>\n    <tr>\n      <th>feat_33</th>\n      <td>float64</td>\n      <td>239877.0</td>\n      <td>8.677564</td>\n      <td>24.475113</td>\n      <td>0.000000</td>\n      <td>0.000000</td>\n      <td>5.000000</td>\n      <td>6.000000</td>\n      <td>192.000000</td>\n      <td>192</td>\n      <td>40123</td>\n    </tr>\n    <tr>\n      <th>feat_34</th>\n      <td>float64</td>\n      <td>239877.0</td>\n      <td>22.280593</td>\n      <td>118.153642</td>\n      <td>0.000000</td>\n      <td>0.000000</td>\n      <td>0.000000</td>\n      <td>0.000000</td>\n      <td>7500.000000</td>\n      <td>2916</td>\n      <td>40123</td>\n    </tr>\n    <tr>\n      <th>feat_35</th>\n      <td>float64</td>\n      <td>239877.0</td>\n      <td>11.314486</td>\n      <td>17.366159</td>\n      <td>0.000000</td>\n      <td>1.000000</td>\n      <td>1.000000</td>\n      <td>23.000000</td>\n      <td>241.000000</td>\n      <td>168</td>\n      <td>40123</td>\n    </tr>\n    <tr>\n      <th>feat_36</th>\n      <td>float64</td>\n      <td>239877.0</td>\n      <td>66.462625</td>\n      <td>99.922425</td>\n      <td>0.000000</td>\n      <td>6.000000</td>\n      <td>10.000000</td>\n      <td>118.000000</td>\n      <td>1473.000000</td>\n      <td>803</td>\n      <td>40123</td>\n    </tr>\n    <tr>\n      <th>feat_37</th>\n      <td>float64</td>\n      <td>239877.0</td>\n      <td>1183.084578</td>\n      <td>981.387215</td>\n      <td>0.000000</td>\n      <td>352.000000</td>\n      <td>1139.999400</td>\n      <td>1769.999500</td>\n      <td>22461.484500</td>\n      <td>52290</td>\n      <td>40123</td>\n    </tr>\n    <tr>\n      <th>feat_38</th>\n      <td>float64</td>\n      <td>239877.0</td>\n      <td>174.140099</td>\n      <td>155.291325</td>\n      <td>0.000000</td>\n      <td>4.840000</td>\n      <td>189.999900</td>\n      <td>290.000000</td>\n      <td>1500.004200</td>\n      <td>1164</td>\n      <td>40123</td>\n    </tr>\n    <tr>\n      <th>feat_39</th>\n      <td>float64</td>\n      <td>275281.0</td>\n      <td>1803.772138</td>\n      <td>1731.960266</td>\n      <td>-4941.820000</td>\n      <td>678.020000</td>\n      <td>1460.000000</td>\n      <td>2386.020000</td>\n      <td>62002.790000</td>\n      <td>71513</td>\n      <td>4719</td>\n    </tr>\n    <tr>\n      <th>feat_40</th>\n      <td>float64</td>\n      <td>275281.0</td>\n      <td>12.499544</td>\n      <td>18.731498</td>\n      <td>0.000000</td>\n      <td>5.000000</td>\n      <td>8.000000</td>\n      <td>14.000000</td>\n      <td>4026.000000</td>\n      <td>293</td>\n      <td>4719</td>\n    </tr>\n    <tr>\n      <th>feat_41</th>\n      <td>float64</td>\n      <td>265591.0</td>\n      <td>1.423226</td>\n      <td>1.399693</td>\n      <td>0.000000</td>\n      <td>1.000000</td>\n      <td>1.000000</td>\n      <td>2.000000</td>\n      <td>68.000000</td>\n      <td>39</td>\n      <td>14409</td>\n    </tr>\n    <tr>\n      <th>feat_42</th>\n      <td>float64</td>\n      <td>215702.0</td>\n      <td>10.186489</td>\n      <td>9.331035</td>\n      <td>1.000000</td>\n      <td>1.000000</td>\n      <td>8.000000</td>\n      <td>18.000000</td>\n      <td>30.000000</td>\n      <td>30</td>\n      <td>64298</td>\n    </tr>\n    <tr>\n      <th>feat_43</th>\n      <td>float64</td>\n      <td>266735.0</td>\n      <td>2.643496</td>\n      <td>3.905495</td>\n      <td>1.000000</td>\n      <td>1.000000</td>\n      <td>1.000000</td>\n      <td>2.000000</td>\n      <td>30.000000</td>\n      <td>30</td>\n      <td>13265</td>\n    </tr>\n    <tr>\n      <th>feat_44</th>\n      <td>float64</td>\n      <td>279966.0</td>\n      <td>8.003565</td>\n      <td>20.210810</td>\n      <td>-1.000000</td>\n      <td>2.000000</td>\n      <td>3.000000</td>\n      <td>11.000000</td>\n      <td>2969.000000</td>\n      <td>403</td>\n      <td>34</td>\n    </tr>\n    <tr>\n      <th>feat_45</th>\n      <td>float64</td>\n      <td>279971.0</td>\n      <td>26.397884</td>\n      <td>59.924405</td>\n      <td>-1.000000</td>\n      <td>6.000000</td>\n      <td>14.000000</td>\n      <td>24.000000</td>\n      <td>2320.000000</td>\n      <td>953</td>\n      <td>29</td>\n    </tr>\n    <tr>\n      <th>feat_46</th>\n      <td>float64</td>\n      <td>280000.0</td>\n      <td>0.017822</td>\n      <td>0.098506</td>\n      <td>0.000000</td>\n      <td>0.000000</td>\n      <td>0.000000</td>\n      <td>0.000000</td>\n      <td>1.000000</td>\n      <td>101</td>\n      <td>0</td>\n    </tr>\n    <tr>\n      <th>client_id</th>\n      <td>object</td>\n      <td>NaN</td>\n      <td>NaN</td>\n      <td>NaN</td>\n      <td>NaN</td>\n      <td>NaN</td>\n      <td>NaN</td>\n      <td>NaN</td>\n      <td>NaN</td>\n      <td>280000</td>\n      <td>0</td>\n    </tr>\n  </tbody>\n</table>\n</div>"
     },
     "metadata": {},
     "output_type": "execute_result",
     "execution_count": 4
    }
   ],
   "source": [
    "pd.concat([pd.Series(data.dtypes, name='data_type'),\n",
    "           data.describe().transpose(),\n",
    "           pd.Series(data.nunique(), name='unique_values'), \n",
    "           pd.Series(data.isnull().sum(), name='missing_values'),\n",
    "           ], axis=1)\n",
    "\n"
   ]
  },
  {
   "cell_type": "code",
   "execution_count": 5,
   "metadata": {
    "pycharm": {
     "is_executing": false,
     "name": "#%%\n"
    }
   },
   "outputs": [
    {
     "name": "stdout",
     "text": [
      "Distribution of report dates:\n",
      "2018-10-01    70000\n",
      "2018-11-01    70000\n",
      "2018-12-01    70000\n",
      "2019-01-01    70000\n",
      "Name: report_date, dtype: int64\n",
      "Distribution of report dates:\n",
      "2018-10-01    70000\n",
      "2018-11-01    70000\n",
      "2018-12-01    70000\n",
      "2019-01-01    70000\n",
      "Name: report_date, dtype: int64\n"
     ],
     "output_type": "stream"
    }
   ],
   "source": [
    "print('Distribution of report dates:')\n",
    "print(data['report_date'].value_counts().sort_index())"
   ]
  },
  {
   "cell_type": "code",
   "execution_count": 6,
   "metadata": {
    "pycharm": {
     "is_executing": false,
     "name": "#%%\n"
    }
   },
   "outputs": [
    {
     "name": "stdout",
     "text": [
      "Share of target class for different report dates:\n",
      "Share of target class for different report dates:\n"
     ],
     "output_type": "stream"
    },
    {
     "data": {
      "text/plain": "report_date\n2018-10-01    0.142857\n2018-11-01    0.142857\n2018-12-01    0.142857\n2019-01-01    0.142857\nName: label, dtype: float64"
     },
     "metadata": {},
     "output_type": "execute_result",
     "execution_count": 70
    },
    {
     "data": {
      "text/plain": "report_date\n2018-10-01    0.142857\n2018-11-01    0.142857\n2018-12-01    0.142857\n2019-01-01    0.142857\nName: label, dtype: float64"
     },
     "metadata": {},
     "output_type": "execute_result",
     "execution_count": 6
    }
   ],
   "source": [
    "print('Share of target class for different report dates:')\n",
    "data.groupby(['report_date'])['label'].mean()"
   ]
  },
  {
   "cell_type": "markdown",
   "metadata": {},
   "source": [
    "Results of the data overview:\n",
    "- There are 280,000 records in the dataset provided by the company. Each row of the dataset is describing Tele2 customer.\n",
    "- For each entry there is a class label. Class “1” means that the client churned, class “0” means that the client remained with the company.\n",
    "- Each entry describes the customer by 46 characteristics. The company did not provide a description of the features. This means that we will use the names of features like  “feat_1”, “feat_2” and so on.\n",
    "- Four reporting dates are presented in the data: October 1, 2018, November 1, 2018, December 1, 2018 and January 1, 2019. For each date, there are 70,000 records.\n",
    "- All client_id are unique, which means that there is no intersection in clients across different reporting dates.\n",
    "- The share of churned clients is the same in all reporting periods. It is just over 14%.\n"
   ]
  },
  {
   "cell_type": "markdown",
   "metadata": {},
   "source": [
    "<a id=\"Data_preparation\"></a>\n",
    "### Data preparation"
   ]
  },
  {
   "cell_type": "markdown",
   "metadata": {},
   "source": [
    "Now let's create a holdout set. Typically, the holdout set is approximately 20% of the available data. In our case, it makes sense to raise this figure to 25% and use as a holdout set all the data for the latest available date, i.e. for January 2019. This way we can simulate the real work of the model. It will be trained and validated on historical data and then launched on data that came later. \n",
    "\n",
    "We will save our holdout set in a separate file. Thus, we guarantee that this data will definitely not be used during training the model."
   ]
  },
  {
   "cell_type": "code",
   "execution_count": 7,
   "metadata": {
    "jupyter": {
     "outputs_hidden": false
    },
    "pycharm": {
     "is_executing": false,
     "name": "#%%\n"
    }
   },
   "outputs": [],
   "source": [
    "# data['report_date']= pd.to_datetime(data['report_date']) "
   ]
  },
  {
   "cell_type": "code",
   "execution_count": 8,
   "metadata": {
    "pycharm": {
     "is_executing": false,
     "name": "#%%\n"
    }
   },
   "outputs": [
    {
     "name": "stdout",
     "text": [
      "The size of holdout set is: (70000, 49)\n",
      "The size of holdout set is: (70000, 49)\n"
     ],
     "output_type": "stream"
    }
   ],
   "source": [
    "holdout = data[data['report_date'] == '2019-01-01']\n",
    "holdout.to_csv('holdout.zip', compression='zip', index=False)\n",
    "print(\"The size of holdout set is:\", holdout.shape)"
   ]
  },
  {
   "cell_type": "code",
   "execution_count": 9,
   "metadata": {
    "pycharm": {
     "is_executing": false,
     "name": "#%%\n"
    }
   },
   "outputs": [
    {
     "name": "stdout",
     "text": [
      "The size of training set is: (210000, 49)\n",
      "The size of training set is: (210000, 49)\n"
     ],
     "output_type": "stream"
    }
   ],
   "source": [
    "train = data[data['report_date'] != '2019-01-01']\n",
    "train.to_csv('train.zip', compression='zip', index=False)\n",
    "print(\"The size of training set is:\", train.shape)"
   ]
  },
  {
   "cell_type": "code",
   "execution_count": 10,
   "metadata": {
    "pycharm": {
     "is_executing": false,
     "name": "#%%\n"
    }
   },
   "outputs": [],
   "source": [
    "del data\n",
    "del holdout\n",
    "del train"
   ]
  },
  {
   "cell_type": "markdown",
   "metadata": {},
   "source": [
    "<a id=\"EDA\"></a>\n",
    "### Exploratory data analysis"
   ]
  },
  {
   "cell_type": "code",
   "execution_count": 11,
   "metadata": {
    "pycharm": {
     "is_executing": false,
     "name": "#%%\n"
    }
   },
   "outputs": [],
   "source": [
    "# plt.figure(figsize=(10, 115))\n",
    "# \n",
    "# idx = 0\n",
    "# for column in train.columns:\n",
    "#     if column in ['label', 'report_date', 'client_id']:\n",
    "#         continue\n",
    "#     plt.subplot(23, 2, idx + 1)\n",
    "#     sns.violinplot(x='label', y=column, data=train, cut=3)\n",
    "#     idx += 1\n"
   ]
  },
  {
   "cell_type": "markdown",
   "metadata": {},
   "source": [
    "<a id=\"Baseline_model\"></a>\n",
    "### Baseline model"
   ]
  },
  {
   "cell_type": "code",
   "execution_count": 12,
   "metadata": {
    "jupyter": {
     "outputs_hidden": false
    },
    "pycharm": {
     "is_executing": false,
     "name": "#%%\n"
    }
   },
   "outputs": [],
   "source": [
    "X = pd.read_csv('train.zip').drop(['client_id', 'report_date'], axis=1)\n",
    "y = X.pop('label')\n",
    "\n",
    "X = X.fillna(0)\n",
    "\n",
    "X_train, X_test, y_train, y_test = train_test_split(X, y, test_size=0.25, random_state=42)"
   ]
  },
  {
   "cell_type": "code",
   "execution_count": 13,
   "metadata": {
    "pycharm": {
     "is_executing": false
    }
   },
   "outputs": [],
   "source": [
    "model = Sequential()\n",
    "model.add(Dense(64, input_dim=46, activation='relu'))\n",
    "model.add(Dropout(0.5))\n",
    "model.add(Dense(64, activation='relu'))\n",
    "model.add(Dropout(0.5))\n",
    "model.add(Dense(1, activation='sigmoid'))\n",
    "\n",
    "model.compile(loss='binary_crossentropy',\n",
    "              optimizer='adam',\n",
    "              metrics=['accuracy'])"
   ]
  },
  {
   "cell_type": "code",
   "execution_count": 14,
   "outputs": [],
   "source": [
    "callbacks = [EarlyStopping(monitor='val_loss', patience=10, verbose=0)]"
   ],
   "metadata": {
    "collapsed": false,
    "pycharm": {
     "name": "#%%\n",
     "is_executing": false
    }
   }
  },
  {
   "cell_type": "code",
   "execution_count": 15,
   "outputs": [],
   "source": [
    "class_weight = {0: 0.5,\n",
    "                1: 2}"
   ],
   "metadata": {
    "collapsed": false,
    "pycharm": {
     "name": "#%%\n",
     "is_executing": false
    }
   }
  },
  {
   "cell_type": "code",
   "execution_count": 16,
   "outputs": [
    {
     "name": "stdout",
     "text": [
      "Train on 157500 samples, validate on 52500 samples\n",
      "Epoch 1/1000\n",
      " - 15s - loss: 5.9014 - accuracy: 0.7064 - val_loss: 0.5718 - val_accuracy: 0.8586\n",
      "Epoch 2/1000\n",
      " - 14s - loss: 0.4859 - accuracy: 0.8477 - val_loss: 0.5597 - val_accuracy: 0.8585\n",
      "Epoch 3/1000\n",
      " - 14s - loss: 0.4610 - accuracy: 0.8532 - val_loss: 0.5112 - val_accuracy: 0.8586\n",
      "Epoch 4/1000\n",
      " - 14s - loss: 0.4403 - accuracy: 0.7944 - val_loss: 0.4274 - val_accuracy: 0.8624\n",
      "Epoch 5/1000\n",
      " - 13s - loss: 0.4189 - accuracy: 0.8289 - val_loss: 0.4291 - val_accuracy: 0.8518\n",
      "Epoch 6/1000\n",
      " - 14s - loss: 0.4024 - accuracy: 0.8102 - val_loss: 0.4705 - val_accuracy: 0.8450\n",
      "Epoch 7/1000\n",
      " - 14s - loss: 0.3981 - accuracy: 0.8061 - val_loss: 0.4039 - val_accuracy: 0.8463\n",
      "Epoch 8/1000\n",
      " - 14s - loss: 0.3959 - accuracy: 0.7912 - val_loss: 0.4720 - val_accuracy: 0.8030\n",
      "Epoch 9/1000\n",
      " - 13s - loss: 0.3958 - accuracy: 0.7912 - val_loss: 0.4624 - val_accuracy: 0.8370\n",
      "Epoch 10/1000\n",
      " - 13s - loss: 0.3979 - accuracy: 0.7919 - val_loss: 0.4420 - val_accuracy: 0.8189\n",
      "Epoch 11/1000\n",
      " - 14s - loss: 0.3912 - accuracy: 0.7874 - val_loss: 0.4559 - val_accuracy: 0.8037\n",
      "Epoch 12/1000\n",
      " - 15s - loss: 0.3864 - accuracy: 0.7983 - val_loss: 0.4522 - val_accuracy: 0.8279\n",
      "Epoch 13/1000\n",
      " - 14s - loss: 0.3902 - accuracy: 0.7994 - val_loss: 0.4266 - val_accuracy: 0.8241\n",
      "Epoch 14/1000\n",
      " - 13s - loss: 0.3936 - accuracy: 0.7982 - val_loss: 0.4796 - val_accuracy: 0.8308\n",
      "Epoch 15/1000\n",
      " - 13s - loss: 0.3878 - accuracy: 0.7996 - val_loss: 0.4516 - val_accuracy: 0.8335\n",
      "Epoch 16/1000\n",
      " - 13s - loss: 0.3834 - accuracy: 0.8012 - val_loss: 0.4866 - val_accuracy: 0.8262\n",
      "Epoch 17/1000\n",
      " - 13s - loss: 0.3886 - accuracy: 0.8124 - val_loss: 0.3980 - val_accuracy: 0.8358\n",
      "Epoch 18/1000\n",
      " - 15s - loss: 0.3870 - accuracy: 0.8108 - val_loss: 0.4329 - val_accuracy: 0.8304\n",
      "Epoch 19/1000\n",
      " - 15s - loss: 0.3947 - accuracy: 0.8045 - val_loss: 0.4385 - val_accuracy: 0.7912\n",
      "Epoch 20/1000\n",
      " - 16s - loss: 0.3860 - accuracy: 0.8120 - val_loss: 0.4286 - val_accuracy: 0.8153\n",
      "Epoch 21/1000\n",
      " - 15s - loss: 0.3880 - accuracy: 0.8137 - val_loss: 0.4212 - val_accuracy: 0.7941\n",
      "Epoch 22/1000\n",
      " - 15s - loss: 0.3897 - accuracy: 0.8085 - val_loss: 0.4467 - val_accuracy: 0.8195\n",
      "Epoch 23/1000\n",
      " - 15s - loss: 0.4092 - accuracy: 0.8121 - val_loss: 0.4184 - val_accuracy: 0.8222\n",
      "Epoch 24/1000\n",
      " - 13s - loss: 0.3846 - accuracy: 0.8124 - val_loss: 0.4020 - val_accuracy: 0.8283\n",
      "Epoch 25/1000\n",
      " - 13s - loss: 0.3860 - accuracy: 0.8086 - val_loss: 0.3887 - val_accuracy: 0.8306\n",
      "Epoch 26/1000\n",
      " - 14s - loss: 0.3890 - accuracy: 0.8094 - val_loss: 0.4483 - val_accuracy: 0.8073\n",
      "Epoch 27/1000\n",
      " - 15s - loss: 0.3946 - accuracy: 0.8120 - val_loss: 0.4588 - val_accuracy: 0.8044\n",
      "Epoch 28/1000\n",
      " - 15s - loss: 0.3876 - accuracy: 0.8060 - val_loss: 0.4607 - val_accuracy: 0.8041\n",
      "Epoch 29/1000\n",
      " - 15s - loss: 0.3836 - accuracy: 0.8071 - val_loss: 0.4379 - val_accuracy: 0.8215\n",
      "Epoch 30/1000\n",
      " - 15s - loss: 0.3845 - accuracy: 0.8050 - val_loss: 0.4067 - val_accuracy: 0.8100\n",
      "Epoch 31/1000\n",
      " - 15s - loss: 0.3879 - accuracy: 0.8086 - val_loss: 0.4950 - val_accuracy: 0.7802\n",
      "Epoch 32/1000\n",
      " - 16s - loss: 0.3818 - accuracy: 0.8137 - val_loss: 0.3774 - val_accuracy: 0.8226\n",
      "Epoch 33/1000\n",
      " - 15s - loss: 0.3852 - accuracy: 0.8054 - val_loss: 0.4065 - val_accuracy: 0.8278\n",
      "Epoch 34/1000\n",
      " - 15s - loss: 0.3856 - accuracy: 0.8053 - val_loss: 0.3994 - val_accuracy: 0.8109\n",
      "Epoch 35/1000\n",
      " - 15s - loss: 0.3836 - accuracy: 0.8098 - val_loss: 0.4152 - val_accuracy: 0.8225\n",
      "Epoch 36/1000\n",
      " - 15s - loss: 0.3818 - accuracy: 0.8024 - val_loss: 0.4210 - val_accuracy: 0.8281\n",
      "Epoch 37/1000\n",
      " - 15s - loss: 0.3888 - accuracy: 0.8103 - val_loss: 0.4571 - val_accuracy: 0.8090\n",
      "Epoch 38/1000\n",
      " - 15s - loss: 0.3856 - accuracy: 0.8069 - val_loss: 0.4839 - val_accuracy: 0.7482\n",
      "Epoch 39/1000\n",
      " - 15s - loss: 0.3855 - accuracy: 0.8068 - val_loss: 0.4172 - val_accuracy: 0.8170\n",
      "Epoch 40/1000\n",
      " - 15s - loss: 0.3815 - accuracy: 0.8087 - val_loss: 0.4441 - val_accuracy: 0.7978\n",
      "Epoch 41/1000\n",
      " - 15s - loss: 0.3826 - accuracy: 0.8077 - val_loss: 0.4370 - val_accuracy: 0.8007\n",
      "Epoch 42/1000\n",
      " - 15s - loss: 0.3840 - accuracy: 0.8041 - val_loss: 0.4117 - val_accuracy: 0.8203\n",
      "Train on 157500 samples, validate on 52500 samples\n",
      "Epoch 1/1000\n",
      " - 20s - loss: 5.1197 - accuracy: 0.6516 - val_loss: 0.6316 - val_accuracy: 0.8586\n",
      "Epoch 2/1000\n",
      " - 18s - loss: 0.5179 - accuracy: 0.8480 - val_loss: 0.5811 - val_accuracy: 0.8585\n",
      "Epoch 3/1000\n",
      " - 16s - loss: 0.4702 - accuracy: 0.7842 - val_loss: 0.4539 - val_accuracy: 0.8344\n",
      "Epoch 4/1000\n",
      " - 16s - loss: 0.4328 - accuracy: 0.7506 - val_loss: 0.4778 - val_accuracy: 0.8533\n",
      "Epoch 5/1000\n",
      " - 23s - loss: 0.4210 - accuracy: 0.7762 - val_loss: 0.4380 - val_accuracy: 0.8582\n",
      "Epoch 6/1000\n",
      " - 22s - loss: 0.4070 - accuracy: 0.7715 - val_loss: 0.4544 - val_accuracy: 0.8369\n",
      "Epoch 7/1000\n",
      " - 14s - loss: 0.4186 - accuracy: 0.7738 - val_loss: 0.5039 - val_accuracy: 0.8363\n",
      "Epoch 8/1000\n",
      " - 18s - loss: 0.4046 - accuracy: 0.7692 - val_loss: 0.5110 - val_accuracy: 0.7825\n",
      "Epoch 9/1000\n",
      " - 20s - loss: 0.3983 - accuracy: 0.7736 - val_loss: 0.4670 - val_accuracy: 0.8259\n",
      "Epoch 10/1000\n",
      " - 18s - loss: 0.4067 - accuracy: 0.7745 - val_loss: 0.4196 - val_accuracy: 0.8091\n",
      "Epoch 11/1000\n",
      " - 15s - loss: 0.3999 - accuracy: 0.7744 - val_loss: 0.4601 - val_accuracy: 0.8544\n",
      "Epoch 12/1000\n",
      " - 16s - loss: 0.3979 - accuracy: 0.7781 - val_loss: 0.4537 - val_accuracy: 0.7763\n",
      "Epoch 13/1000\n",
      " - 20s - loss: 0.3991 - accuracy: 0.7720 - val_loss: 0.4409 - val_accuracy: 0.8352\n",
      "Epoch 14/1000\n",
      " - 20s - loss: 0.3926 - accuracy: 0.7710 - val_loss: 0.3882 - val_accuracy: 0.8427\n",
      "Epoch 15/1000\n",
      " - 16s - loss: 0.3916 - accuracy: 0.7733 - val_loss: 0.4486 - val_accuracy: 0.8159\n",
      "Epoch 16/1000\n",
      " - 18s - loss: 0.3945 - accuracy: 0.7733 - val_loss: 0.4213 - val_accuracy: 0.8360\n",
      "Epoch 17/1000\n",
      " - 17s - loss: 0.3966 - accuracy: 0.7770 - val_loss: 0.4991 - val_accuracy: 0.8464\n",
      "Epoch 18/1000\n",
      " - 14s - loss: 0.3960 - accuracy: 0.7800 - val_loss: 0.4133 - val_accuracy: 0.8428\n",
      "Epoch 19/1000\n",
      " - 14s - loss: 0.4208 - accuracy: 0.7719 - val_loss: 0.4251 - val_accuracy: 0.8313\n",
      "Epoch 20/1000\n",
      " - 15s - loss: 0.3936 - accuracy: 0.7763 - val_loss: 0.4227 - val_accuracy: 0.8285\n",
      "Epoch 21/1000\n",
      " - 15s - loss: 0.3908 - accuracy: 0.7778 - val_loss: 0.4140 - val_accuracy: 0.7887\n",
      "Epoch 22/1000\n",
      " - 15s - loss: 0.3918 - accuracy: 0.7800 - val_loss: 0.4173 - val_accuracy: 0.8368\n",
      "Epoch 23/1000\n",
      " - 15s - loss: 0.3909 - accuracy: 0.7763 - val_loss: 0.4335 - val_accuracy: 0.8197\n",
      "Epoch 24/1000\n",
      " - 16s - loss: 0.3924 - accuracy: 0.7638 - val_loss: 0.4444 - val_accuracy: 0.8074\n"
     ],
     "output_type": "stream"
    },
    {
     "data": {
      "text/plain": "<keras.callbacks.callbacks.History at 0x7f9b1c1bcfd0>"
     },
     "metadata": {},
     "output_type": "execute_result",
     "execution_count": 80
    },
    {
     "data": {
      "text/plain": "<keras.callbacks.callbacks.History at 0x7feb6291ff60>"
     },
     "metadata": {},
     "output_type": "execute_result",
     "execution_count": 16
    }
   ],
   "source": [
    "model.fit(X_train, y_train,\n",
    "          validation_data=(X_test, y_test),\n",
    "          class_weight = class_weight,\n",
    "          callbacks=callbacks,\n",
    "          epochs=1000,\n",
    "          #batch_size=256, \n",
    "          verbose=2)"
   ],
   "metadata": {
    "collapsed": false,
    "pycharm": {
     "name": "#%%\n",
     "is_executing": false
    }
   }
  },
  {
   "cell_type": "code",
   "execution_count": 17,
   "metadata": {
    "pycharm": {
     "name": "#%%\n",
     "is_executing": false
    }
   },
   "outputs": [],
   "source": [
    "model.save('baseline.h5') "
   ]
  },
  {
   "cell_type": "code",
   "execution_count": 18,
   "metadata": {
    "pycharm": {
     "name": "#%%\n",
     "is_executing": false
    }
   },
   "outputs": [],
   "source": [
    "y_pred = model.predict_classes(X_test)"
   ]
  },
  {
   "cell_type": "code",
   "execution_count": 19,
   "outputs": [
    {
     "name": "stdout",
     "text": [
      "Confusion Matrix\n",
      "[[38279  6794]\n",
      " [ 2638  4789]]\n",
      "Confusion Matrix\n",
      "[[37549  7524]\n",
      " [ 2587  4840]]\n"
     ],
     "output_type": "stream"
    }
   ],
   "source": [
    "print('Confusion Matrix')\n",
    "print(confusion_matrix(y_test, y_pred))"
   ],
   "metadata": {
    "collapsed": false,
    "pycharm": {
     "name": "#%%\n",
     "is_executing": false
    }
   }
  },
  {
   "cell_type": "code",
   "execution_count": 20,
   "outputs": [
    {
     "name": "stdout",
     "text": [
      "Classification Report\n",
      "              precision    recall  f1-score   support\n",
      "\n",
      "           0       0.94      0.85      0.89     45073\n",
      "           1       0.41      0.64      0.50      7427\n",
      "\n",
      "    accuracy                           0.82     52500\n",
      "   macro avg       0.67      0.75      0.70     52500\n",
      "weighted avg       0.86      0.82      0.84     52500\n",
      "\n",
      "Classification Report\n",
      "              precision    recall  f1-score   support\n",
      "\n",
      "           0       0.94      0.83      0.88     45073\n",
      "           1       0.39      0.65      0.49      7427\n",
      "\n",
      "    accuracy                           0.81     52500\n",
      "   macro avg       0.66      0.74      0.69     52500\n",
      "weighted avg       0.86      0.81      0.83     52500\n",
      "\n"
     ],
     "output_type": "stream"
    }
   ],
   "source": [
    "print('Classification Report')\n",
    "print(classification_report(y_test, y_pred))"
   ],
   "metadata": {
    "collapsed": false,
    "pycharm": {
     "name": "#%%\n",
     "is_executing": false
    }
   }
  },
  {
   "cell_type": "code",
   "execution_count": 20,
   "outputs": [],
   "source": [],
   "metadata": {
    "collapsed": false,
    "pycharm": {
     "name": "#%%\n",
     "is_executing": false
    }
   }
  },
  {
   "cell_type": "code",
   "execution_count": 20,
   "outputs": [],
   "source": [
    "\n"
   ],
   "metadata": {
    "collapsed": false,
    "pycharm": {
     "name": "#%%\n",
     "is_executing": false
    }
   }
  }
 ],
 "metadata": {
  "kernelspec": {
   "display_name": "Python 3",
   "language": "python",
   "name": "python3"
  },
  "language_info": {
   "codemirror_mode": {
    "name": "ipython",
    "version": 3
   },
   "file_extension": ".py",
   "mimetype": "text/x-python",
   "name": "python",
   "nbconvert_exporter": "python",
   "pygments_lexer": "ipython3",
   "version": "3.6.9"
  },
  "pycharm": {
   "stem_cell": {
    "cell_type": "raw",
    "source": [],
    "metadata": {
     "collapsed": false
    }
   }
  },
  "varInspector": {
   "cols": {
    "lenName": 16,
    "lenType": 16,
    "lenVar": 40
   },
   "kernels_config": {
    "python": {
     "delete_cmd_postfix": "",
     "delete_cmd_prefix": "del ",
     "library": "var_list.py",
     "varRefreshCmd": "print(var_dic_list())"
    },
    "r": {
     "delete_cmd_postfix": ") ",
     "delete_cmd_prefix": "rm(",
     "library": "var_list.r",
     "varRefreshCmd": "cat(var_dic_list()) "
    }
   },
   "types_to_exclude": [
    "module",
    "function",
    "builtin_function_or_method",
    "instance",
    "_Feature"
   ],
   "window_display": false
  }
 },
 "nbformat": 4,
 "nbformat_minor": 4
}